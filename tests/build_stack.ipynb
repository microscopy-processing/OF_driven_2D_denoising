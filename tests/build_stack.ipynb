{
 "cells": [
  {
   "cell_type": "code",
   "execution_count": null,
   "id": "5230688b",
   "metadata": {},
   "outputs": [],
   "source": [
    "'''\n",
    "Inputs a YX-resolution (2D) image I and outputs a 3YX-resolution (3D) stack S where:\n",
    "\n",
    "S[0,...] == np.roll(I, shift=1, axis=(-1,-1))\n",
    "S[1,...] == I\n",
    "S[2,...] == np.roll(I, shift=1, axis=(1,1))\n",
    "\n",
    "'''"
   ]
  },
  {
   "cell_type": "code",
   "execution_count": null,
   "id": "4fae4f06",
   "metadata": {},
   "outputs": [],
   "source": [
    "!which python\n",
    "!pip install --upgrade pip"
   ]
  },
  {
   "cell_type": "code",
   "execution_count": null,
   "id": "926a4e92",
   "metadata": {},
   "outputs": [],
   "source": [
    "!pip install \"image_IO @ git+https://github.com/vicente-gonzalez-ruiz/image_IO\"\n",
    "from image_IO import image_1 as gray_image\n",
    "from image_IO import image_3 as RGB_image"
   ]
  },
  {
   "cell_type": "code",
   "execution_count": null,
   "id": "9a45cc58",
   "metadata": {},
   "outputs": [],
   "source": [
    "!pip install mrcfile\n",
    "import mrcfile"
   ]
  },
  {
   "cell_type": "code",
   "execution_count": null,
   "id": "e23df7f4",
   "metadata": {},
   "outputs": [],
   "source": [
    "import numpy as np"
   ]
  },
  {
   "cell_type": "code",
   "execution_count": null,
   "id": "c0e9e63b",
   "metadata": {},
   "outputs": [],
   "source": [
    "import skimage"
   ]
  },
  {
   "cell_type": "code",
   "execution_count": null,
   "id": "022054f4",
   "metadata": {},
   "outputs": [],
   "source": [
    "from collections import namedtuple\n",
    "Args = namedtuple(\"args\", \"input output\")\n",
    "args = Args(\"barb_noisy.png\", \"barb_noisy.mrc\")\n",
    "img = gray_image.read(args.input)\n",
    "gray_image.show(img, \"Noisy\")"
   ]
  },
  {
   "cell_type": "code",
   "execution_count": null,
   "id": "3b923f1f",
   "metadata": {},
   "outputs": [],
   "source": [
    "N = 65\n",
    "SHIFT = 0\n",
    "#stack = np.empty(shape=(img.shape[0], img.shape[1], 3))\n",
    "#for i in range(N):\n",
    "#    stack[...,i] = np.roll(img, shift=(i-N//2)*SHIFT, axis=0)\n",
    "#    stack[...,i] = np.roll(stack[...,i], shift=(i-N//2)*SHIFT, axis=0)\n",
    "stack = np.stack([np.roll(img, shift=(i-N//2)*SHIFT, axis=0) for i in range(N)])\n",
    "stack = np.stack([np.roll(stack[i], shift=(i-N//2)*SHIFT, axis=1) for i in range(N)])"
   ]
  },
  {
   "cell_type": "code",
   "execution_count": null,
   "id": "004991be",
   "metadata": {},
   "outputs": [],
   "source": [
    "#for i in range(N):\n",
    "#    gray_image.show(stack[i], f\"stack[{i}]\")"
   ]
  },
  {
   "cell_type": "code",
   "execution_count": null,
   "id": "8dbfdfd3",
   "metadata": {},
   "outputs": [],
   "source": [
    "#skimage.io.imsave(args.output, stack, plugin=\"tifffile\")"
   ]
  },
  {
   "cell_type": "code",
   "execution_count": null,
   "id": "33483101",
   "metadata": {},
   "outputs": [],
   "source": [
    "with mrcfile.new(args.output, overwrite=True) as mrc:\n",
    "    mrc.set_data(stack.astype(np.float32))\n",
    "    mrc.data"
   ]
  },
  {
   "cell_type": "code",
   "execution_count": null,
   "id": "8d3f9bb8",
   "metadata": {},
   "outputs": [],
   "source": []
  }
 ],
 "metadata": {
  "kernelspec": {
   "display_name": "Python 3 (ipykernel)",
   "language": "python",
   "name": "python3"
  },
  "language_info": {
   "codemirror_mode": {
    "name": "ipython",
    "version": 3
   },
   "file_extension": ".py",
   "mimetype": "text/x-python",
   "name": "python",
   "nbconvert_exporter": "python",
   "pygments_lexer": "ipython3",
   "version": "3.10.12"
  }
 },
 "nbformat": 4,
 "nbformat_minor": 5
}
