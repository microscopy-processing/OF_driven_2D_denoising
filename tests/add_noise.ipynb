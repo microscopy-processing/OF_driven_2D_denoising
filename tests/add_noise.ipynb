{
 "cells": [
  {
   "cell_type": "code",
   "execution_count": null,
   "id": "5230688b",
   "metadata": {},
   "outputs": [],
   "source": [
    "'''\n",
    "Add gaussian noise to a image.\n",
    "'''"
   ]
  },
  {
   "cell_type": "code",
   "execution_count": null,
   "id": "4fae4f06",
   "metadata": {},
   "outputs": [],
   "source": [
    "!which python\n",
    "!pip install --upgrade pip"
   ]
  },
  {
   "cell_type": "code",
   "execution_count": null,
   "id": "926a4e92",
   "metadata": {},
   "outputs": [],
   "source": [
    "!pip install \"image_IO @ git+https://github.com/vicente-gonzalez-ruiz/image_IO\"\n",
    "from image_IO import image_1 as gray_image\n",
    "#from image_IO import image_3 as RGB_image"
   ]
  },
  {
   "cell_type": "code",
   "execution_count": null,
   "id": "e23df7f4",
   "metadata": {},
   "outputs": [],
   "source": [
    "import numpy as np"
   ]
  },
  {
   "cell_type": "code",
   "execution_count": null,
   "id": "c0e9e63b",
   "metadata": {},
   "outputs": [],
   "source": [
    "import skimage"
   ]
  },
  {
   "cell_type": "code",
   "execution_count": null,
   "id": "43891732",
   "metadata": {},
   "outputs": [],
   "source": [
    "from collections import namedtuple\n",
    "Args = namedtuple(\"args\", \"input output\")\n",
    "args = Args(\"barb.png\", \"barb_noisy.png\")"
   ]
  },
  {
   "cell_type": "code",
   "execution_count": null,
   "id": "17dbf86b",
   "metadata": {},
   "outputs": [],
   "source": [
    "!wget http://www.hpca.ual.es/~vruiz/images/{args.input}"
   ]
  },
  {
   "cell_type": "code",
   "execution_count": null,
   "id": "1b4bf890",
   "metadata": {},
   "outputs": [],
   "source": [
    "img = gray_image.read(args.input)\n",
    "gray_image.show(img, \"Original\")"
   ]
  },
  {
   "cell_type": "code",
   "execution_count": null,
   "id": "a894eb15",
   "metadata": {},
   "outputs": [],
   "source": [
    "mean = 0\n",
    "var = 1000\n",
    "sigma = var**0.5\n",
    "noise = np.random.normal(mean,sigma,img.shape).reshape(img.shape)\n",
    "noisy_img = np.clip((img + noise), 0, 255).astype(np.uint8)\n",
    "gray_image.show(noisy_img, \"Noisy\")"
   ]
  },
  {
   "cell_type": "code",
   "execution_count": null,
   "id": "33483101",
   "metadata": {},
   "outputs": [],
   "source": [
    "gray_image.write(noisy_img, args.output)"
   ]
  },
  {
   "cell_type": "code",
   "execution_count": null,
   "id": "299096e7",
   "metadata": {},
   "outputs": [],
   "source": []
  }
 ],
 "metadata": {
  "kernelspec": {
   "display_name": "Python 3 (ipykernel)",
   "language": "python",
   "name": "python3"
  },
  "language_info": {
   "codemirror_mode": {
    "name": "ipython",
    "version": 3
   },
   "file_extension": ".py",
   "mimetype": "text/x-python",
   "name": "python",
   "nbconvert_exporter": "python",
   "pygments_lexer": "ipython3",
   "version": "3.10.12"
  }
 },
 "nbformat": 4,
 "nbformat_minor": 5
}
