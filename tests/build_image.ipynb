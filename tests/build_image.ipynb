{
 "cells": [
  {
   "cell_type": "code",
   "execution_count": null,
   "id": "5230688b",
   "metadata": {},
   "outputs": [],
   "source": [
    "'''\n",
    "Inputs  and outputs a 3YX-resolution (3D) stack S and outputs a YX-resolution (2D) image S[1,...]\n",
    "'''"
   ]
  },
  {
   "cell_type": "code",
   "execution_count": null,
   "id": "4fae4f06",
   "metadata": {},
   "outputs": [],
   "source": [
    "!which python\n",
    "!pip install --upgrade pip"
   ]
  },
  {
   "cell_type": "code",
   "execution_count": null,
   "id": "926a4e92",
   "metadata": {},
   "outputs": [],
   "source": [
    "!pip install \"image_IO @ git+https://github.com/vicente-gonzalez-ruiz/image_IO\"\n",
    "from image_IO import image_1 as gray_image\n",
    "#from image_IO import image_3 as RGB_image"
   ]
  },
  {
   "cell_type": "code",
   "execution_count": null,
   "id": "e23df7f4",
   "metadata": {},
   "outputs": [],
   "source": [
    "import numpy as np"
   ]
  },
  {
   "cell_type": "code",
   "execution_count": null,
   "id": "c0e9e63b",
   "metadata": {},
   "outputs": [],
   "source": [
    "import skimage"
   ]
  },
  {
   "cell_type": "code",
   "execution_count": null,
   "id": "c9bf6b8b",
   "metadata": {},
   "outputs": [],
   "source": [
    "import mrcfile"
   ]
  },
  {
   "cell_type": "code",
   "execution_count": null,
   "id": "43891732",
   "metadata": {},
   "outputs": [],
   "source": [
    "from collections import namedtuple\n",
    "Args = namedtuple(\"args\", \"input output\")\n",
    "args = Args(\"barb_denoised.mrc\", \"barb_denoised.png\")"
   ]
  },
  {
   "cell_type": "code",
   "execution_count": null,
   "id": "50e5d846",
   "metadata": {},
   "outputs": [],
   "source": [
    "#stack = skimage.io.imread(args.input)\n",
    "stack_MRC = mrcfile.open(args.input)\n",
    "stack = stack_MRC.data\n",
    "print(args.input, stack.shape)"
   ]
  },
  {
   "cell_type": "code",
   "execution_count": null,
   "id": "a894eb15",
   "metadata": {},
   "outputs": [],
   "source": [
    "gray_image.show(stack[stack.shape[0]//2,...], \"OF-driven Gaussian Denoised\")"
   ]
  },
  {
   "cell_type": "code",
   "execution_count": null,
   "id": "c2b727d4",
   "metadata": {},
   "outputs": [],
   "source": [
    "gray_image.write(stack[stack.shape[0]//2,...], args.output)"
   ]
  }
 ],
 "metadata": {
  "kernelspec": {
   "display_name": "Python 3 (ipykernel)",
   "language": "python",
   "name": "python3"
  },
  "language_info": {
   "codemirror_mode": {
    "name": "ipython",
    "version": 3
   },
   "file_extension": ".py",
   "mimetype": "text/x-python",
   "name": "python",
   "nbconvert_exporter": "python",
   "pygments_lexer": "ipython3",
   "version": "3.10.12"
  }
 },
 "nbformat": 4,
 "nbformat_minor": 5
}
