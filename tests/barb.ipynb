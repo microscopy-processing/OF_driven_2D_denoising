{
 "cells": [
  {
   "cell_type": "markdown",
   "metadata": {
    "id": "QqfKxC0KuCzK"
   },
   "source": [
    "# OF-driven Gaussian denoising"
   ]
  },
  {
   "cell_type": "code",
   "execution_count": null,
   "metadata": {},
   "outputs": [],
   "source": [
    "!which python"
   ]
  },
  {
   "cell_type": "code",
   "execution_count": null,
   "metadata": {},
   "outputs": [],
   "source": [
    "#!pip install --upgrade pip"
   ]
  },
  {
   "cell_type": "code",
   "execution_count": 1,
   "metadata": {
    "id": "IIUxh4uStrQJ"
   },
   "outputs": [],
   "source": [
    "import numpy as np\n",
    "import scipy.ndimage\n",
    "import matplotlib.pyplot as plt\n",
    "from ipywidgets import *\n",
    "import cv2\n",
    "import time\n",
    "#import kernels\n",
    "#import _2D_OF_denoising2 as _2D_OF_denoising\n",
    "import logging"
   ]
  },
  {
   "cell_type": "code",
   "execution_count": 2,
   "metadata": {},
   "outputs": [
    {
     "name": "stdout",
     "output_type": "stream",
     "text": [
      "Found existing installation: image_denoising 0.0.1\n",
      "Uninstalling image_denoising-0.0.1:\n",
      "  Successfully uninstalled image_denoising-0.0.1\n"
     ]
    }
   ],
   "source": [
    "!pip uninstall -y \"image_denoising @ git+https://github.com/microscopy-processing/image_denoising\""
   ]
  },
  {
   "cell_type": "code",
   "execution_count": 3,
   "metadata": {},
   "outputs": [
    {
     "name": "stdout",
     "output_type": "stream",
     "text": [
      "Collecting image_denoising@ git+https://github.com/microscopy-processing/image_denoising\n",
      "  Cloning https://github.com/microscopy-processing/image_denoising to /tmp/pip-install-xes1kf2i/image-denoising_6a379a2e60a944ebbdd87e6dce00f965\n",
      "  Running command git clone --filter=blob:none --quiet https://github.com/microscopy-processing/image_denoising /tmp/pip-install-xes1kf2i/image-denoising_6a379a2e60a944ebbdd87e6dce00f965\n",
      "  Resolved https://github.com/microscopy-processing/image_denoising to commit 847b5214d6d870f8c56ef322be2d39e1097749ba\n",
      "  Installing build dependencies ... \u001b[?25ldone\n",
      "\u001b[?25h  Getting requirements to build wheel ... \u001b[?25ldone\n",
      "\u001b[?25h  Installing backend dependencies ... \u001b[?25ldone\n",
      "\u001b[?25h  Preparing metadata (pyproject.toml) ... \u001b[?25ldone\n",
      "\u001b[?25hCollecting motion-estimation@ git+https://github.com/vicente-gonzalez-ruiz/motion_estimation@main#egg=motion_estimation (from image_denoising@ git+https://github.com/microscopy-processing/image_denoising)\n",
      "  Cloning https://github.com/vicente-gonzalez-ruiz/motion_estimation (to revision main) to /tmp/pip-install-xes1kf2i/motion-estimation_e87b4313351348fe903add54c034fc44\n",
      "  Running command git clone --filter=blob:none --quiet https://github.com/vicente-gonzalez-ruiz/motion_estimation /tmp/pip-install-xes1kf2i/motion-estimation_e87b4313351348fe903add54c034fc44\n",
      "  Resolved https://github.com/vicente-gonzalez-ruiz/motion_estimation to commit 15097b6b59f596931c43974dbb3dbefdce69d3ad\n",
      "  Installing build dependencies ... \u001b[?25ldone\n",
      "\u001b[?25h  Getting requirements to build wheel ... \u001b[?25ldone\n",
      "\u001b[?25h  Installing backend dependencies ... \u001b[?25ldone\n",
      "\u001b[?25h  Preparing metadata (pyproject.toml) ... \u001b[?25ldone\n",
      "\u001b[?25hCollecting color-transforms@ git+https://github.com/vicente-gonzalez-ruiz/color_transforms@main#egg=color_transforms (from image_denoising@ git+https://github.com/microscopy-processing/image_denoising)\n",
      "  Cloning https://github.com/vicente-gonzalez-ruiz/color_transforms (to revision main) to /tmp/pip-install-xes1kf2i/color-transforms_210dd5c6b14a4e96bb5bfaffb91d6da0\n",
      "  Running command git clone --filter=blob:none --quiet https://github.com/vicente-gonzalez-ruiz/color_transforms /tmp/pip-install-xes1kf2i/color-transforms_210dd5c6b14a4e96bb5bfaffb91d6da0\n",
      "  Resolved https://github.com/vicente-gonzalez-ruiz/color_transforms to commit 8dcb71d015db080c1053ea654f528e5ebac32122\n",
      "  Installing build dependencies ... \u001b[?25ldone\n",
      "\u001b[?25h  Getting requirements to build wheel ... \u001b[?25ldone\n",
      "\u001b[?25h  Preparing metadata (pyproject.toml) ... \u001b[?25ldone\n",
      "\u001b[?25hCollecting information-theory@ git+https://github.com/vicente-gonzalez-ruiz/information_theory@main#egg=information_theory (from image_denoising@ git+https://github.com/microscopy-processing/image_denoising)\n",
      "  Cloning https://github.com/vicente-gonzalez-ruiz/information_theory (to revision main) to /tmp/pip-install-xes1kf2i/information-theory_bb3533006ac14a6db97736591f4a3f74\n",
      "  Running command git clone --filter=blob:none --quiet https://github.com/vicente-gonzalez-ruiz/information_theory /tmp/pip-install-xes1kf2i/information-theory_bb3533006ac14a6db97736591f4a3f74\n",
      "  Resolved https://github.com/vicente-gonzalez-ruiz/information_theory to commit e5c1cc44048e1ee08f596cb52528ce5934a1e6d9\n",
      "  Installing build dependencies ... \u001b[?25ldone\n",
      "\u001b[?25h  Getting requirements to build wheel ... \u001b[?25ldone\n",
      "\u001b[?25h  Preparing metadata (pyproject.toml) ... \u001b[?25ldone\n",
      "\u001b[?25hRequirement already satisfied: numpy in /shared/PEs/OF3D/lib/python3.10/site-packages (from image_denoising@ git+https://github.com/microscopy-processing/image_denoising) (1.24.4)\n",
      "Requirement already satisfied: opencv-python in /shared/PEs/OF3D/lib/python3.10/site-packages (from image_denoising@ git+https://github.com/microscopy-processing/image_denoising) (4.9.0.80)\n",
      "Requirement already satisfied: matplotlib in /shared/PEs/OF3D/lib/python3.10/site-packages (from image_denoising@ git+https://github.com/microscopy-processing/image_denoising) (3.8.3)\n",
      "Requirement already satisfied: contourpy>=1.0.1 in /shared/PEs/OF3D/lib/python3.10/site-packages (from matplotlib->image_denoising@ git+https://github.com/microscopy-processing/image_denoising) (1.2.0)\n",
      "Requirement already satisfied: cycler>=0.10 in /shared/PEs/OF3D/lib/python3.10/site-packages (from matplotlib->image_denoising@ git+https://github.com/microscopy-processing/image_denoising) (0.12.1)\n",
      "Requirement already satisfied: fonttools>=4.22.0 in /shared/PEs/OF3D/lib/python3.10/site-packages (from matplotlib->image_denoising@ git+https://github.com/microscopy-processing/image_denoising) (4.48.1)\n",
      "Requirement already satisfied: kiwisolver>=1.3.1 in /shared/PEs/OF3D/lib/python3.10/site-packages (from matplotlib->image_denoising@ git+https://github.com/microscopy-processing/image_denoising) (1.4.5)\n",
      "Requirement already satisfied: packaging>=20.0 in /shared/PEs/OF3D/lib/python3.10/site-packages (from matplotlib->image_denoising@ git+https://github.com/microscopy-processing/image_denoising) (23.2)\n",
      "Requirement already satisfied: pillow>=8 in /shared/PEs/OF3D/lib/python3.10/site-packages (from matplotlib->image_denoising@ git+https://github.com/microscopy-processing/image_denoising) (10.2.0)\n",
      "Requirement already satisfied: pyparsing>=2.3.1 in /shared/PEs/OF3D/lib/python3.10/site-packages (from matplotlib->image_denoising@ git+https://github.com/microscopy-processing/image_denoising) (3.1.1)\n",
      "Requirement already satisfied: python-dateutil>=2.7 in /shared/PEs/OF3D/lib/python3.10/site-packages (from matplotlib->image_denoising@ git+https://github.com/microscopy-processing/image_denoising) (2.8.2)\n",
      "Requirement already satisfied: six>=1.5 in /shared/PEs/OF3D/lib/python3.10/site-packages (from python-dateutil>=2.7->matplotlib->image_denoising@ git+https://github.com/microscopy-processing/image_denoising) (1.16.0)\n",
      "Building wheels for collected packages: image_denoising\n",
      "  Building wheel for image_denoising (pyproject.toml) ... \u001b[?25ldone\n",
      "\u001b[?25h  Created wheel for image_denoising: filename=image_denoising-0.0.1-py3-none-any.whl size=10958 sha256=7039d06bd9145279740407745307353f322129a9a1e94c4edec70e195b3fa52c\n",
      "  Stored in directory: /tmp/pip-ephem-wheel-cache-0c5uylkj/wheels/9d/34/b8/b94436563893a9bc1188b6b2c38741d6b3a955974f3782bf5a\n",
      "Successfully built image_denoising\n",
      "Installing collected packages: image_denoising\n",
      "Successfully installed image_denoising-0.0.1\n",
      "Name: image_denoising\n",
      "Version: 0.0.1\n",
      "Summary: Image denoising methods for uncorrelated noise\n",
      "Home-page: \n",
      "Author: \n",
      "Author-email: Vicente González Ruiz <vruiz@ual.es>, José Jesús Fernández Rodríguez <JJ.Fernandez@csic.es>\n",
      "License: \n",
      "Location: /shared/PEs/OF3D/lib/python3.10/site-packages\n",
      "Requires: color-transforms, information-theory, matplotlib, motion-estimation, numpy, opencv-python\n",
      "Required-by: \n"
     ]
    },
    {
     "ename": "AttributeError",
     "evalue": "module 'motion_estimation' has no attribute '_2D'",
     "output_type": "error",
     "traceback": [
      "\u001b[0;31m---------------------------------------------------------------------------\u001b[0m",
      "\u001b[0;31mAttributeError\u001b[0m                            Traceback (most recent call last)",
      "Cell \u001b[0;32mIn[3], line 5\u001b[0m\n\u001b[1;32m      3\u001b[0m get_ipython()\u001b[38;5;241m.\u001b[39msystem(\u001b[38;5;124m'\u001b[39m\u001b[38;5;124mpip install \u001b[39m\u001b[38;5;124m\"\u001b[39m\u001b[38;5;124mimage_denoising @ git+https://github.com/microscopy-processing/image_denoising\u001b[39m\u001b[38;5;124m\"\u001b[39m\u001b[38;5;124m'\u001b[39m)\n\u001b[1;32m      4\u001b[0m get_ipython()\u001b[38;5;241m.\u001b[39msystem(\u001b[38;5;124m'\u001b[39m\u001b[38;5;124mpip show image_denoising\u001b[39m\u001b[38;5;124m'\u001b[39m)\n\u001b[0;32m----> 5\u001b[0m \u001b[38;5;28;01mimport\u001b[39;00m \u001b[38;5;21;01mimage_denoising\u001b[39;00m\n",
      "File \u001b[0;32m/shared/PEs/OF3D/lib/python3.10/site-packages/image_denoising/__init__.py:11\u001b[0m\n\u001b[1;32m      1\u001b[0m \u001b[38;5;66;03m#import logging\u001b[39;00m\n\u001b[1;32m      2\u001b[0m \u001b[38;5;66;03m#logger = logging.getLogger(__name__)\u001b[39;00m\n\u001b[1;32m      3\u001b[0m \u001b[38;5;66;03m#logging.basicConfig(format=\"[%(filename)s:%(lineno)s %(funcName)s()] %(message)s\")\u001b[39;00m\n\u001b[0;32m   (...)\u001b[0m\n\u001b[1;32m      7\u001b[0m \u001b[38;5;66;03m#logger.setLevel(logging.INFO)\u001b[39;00m\n\u001b[1;32m      8\u001b[0m \u001b[38;5;66;03m#logger.setLevel(logging.DEBUG)\u001b[39;00m\n\u001b[1;32m     10\u001b[0m \u001b[38;5;28;01mfrom\u001b[39;00m \u001b[38;5;21;01mimage_denoising\u001b[39;00m \u001b[38;5;28;01mimport\u001b[39;00m gaussian\n\u001b[0;32m---> 11\u001b[0m \u001b[38;5;28;01mfrom\u001b[39;00m \u001b[38;5;21;01mimage_denoising\u001b[39;00m \u001b[38;5;28;01mimport\u001b[39;00m OF_gaussian\n\u001b[1;32m     12\u001b[0m \u001b[38;5;28;01mfrom\u001b[39;00m \u001b[38;5;21;01mimage_denoising\u001b[39;00m \u001b[38;5;28;01mimport\u001b[39;00m OF_random\n",
      "File \u001b[0;32m/shared/PEs/OF3D/lib/python3.10/site-packages/image_denoising/OF_gaussian.py:7\u001b[0m\n\u001b[1;32m      5\u001b[0m \u001b[38;5;28;01mimport\u001b[39;00m \u001b[38;5;21;01mmath\u001b[39;00m\n\u001b[1;32m      6\u001b[0m \u001b[38;5;28;01mfrom\u001b[39;00m \u001b[38;5;21;01m.\u001b[39;00m \u001b[38;5;28;01mimport\u001b[39;00m kernels\n\u001b[0;32m----> 7\u001b[0m \u001b[38;5;28;01mfrom\u001b[39;00m \u001b[38;5;21;01m.\u001b[39;00m \u001b[38;5;28;01mimport\u001b[39;00m flow_estimation\n\u001b[1;32m      8\u001b[0m \u001b[38;5;66;03m#pip install \"color_transforms @ git+https://github.com/vicente-gonzalez-ruiz/color_transforms\"\u001b[39;00m\n\u001b[1;32m      9\u001b[0m \u001b[38;5;28;01mfrom\u001b[39;00m \u001b[38;5;21;01mcolor_transforms\u001b[39;00m \u001b[38;5;28;01mimport\u001b[39;00m YCoCg \u001b[38;5;28;01mas\u001b[39;00m YUV\n",
      "File \u001b[0;32m/shared/PEs/OF3D/lib/python3.10/site-packages/image_denoising/flow_estimation.py:23\u001b[0m\n\u001b[1;32m     15\u001b[0m \u001b[38;5;66;03m#logger.setLevel(logging.INFO)\u001b[39;00m\n\u001b[1;32m     16\u001b[0m \u001b[38;5;66;03m#logger.setLevel(logging.DEBUG)\u001b[39;00m\n\u001b[1;32m     17\u001b[0m \n\u001b[1;32m     18\u001b[0m \u001b[38;5;66;03m#image_denoising.logger.info(f\"Logging level: {image_denoising.logger.getEffectiveLevel()}\")\u001b[39;00m\n\u001b[1;32m     19\u001b[0m \n\u001b[1;32m     20\u001b[0m \u001b[38;5;66;03m#pip install \"motion_estimation @ git+https://github.com/vicente-gonzalez-ruiz/motion_estimation\"\u001b[39;00m\n\u001b[1;32m     21\u001b[0m \u001b[38;5;28;01mimport\u001b[39;00m \u001b[38;5;21;01mmotion_estimation\u001b[39;00m\n\u001b[0;32m---> 23\u001b[0m \u001b[38;5;28;01mclass\u001b[39;00m \u001b[38;5;21;01mFarneback_Flow_Estimator\u001b[39;00m(\u001b[43mmotion_estimation\u001b[49m\u001b[38;5;241;43m.\u001b[39;49m\u001b[43m_2D\u001b[49m\u001b[38;5;241m.\u001b[39mfarneback\u001b[38;5;241m.\u001b[39mEstimator_in_CPU):\n\u001b[1;32m     25\u001b[0m     \u001b[38;5;28;01mdef\u001b[39;00m \u001b[38;5;21m__init__\u001b[39m(\u001b[38;5;28mself\u001b[39m,\n\u001b[1;32m     26\u001b[0m                  levels\u001b[38;5;241m=\u001b[39m\u001b[38;5;241m3\u001b[39m, \u001b[38;5;66;03m# Pyramid slope. Multiply by 2^levels the searching area if the OFE\u001b[39;00m\n\u001b[1;32m     27\u001b[0m                  window_side\u001b[38;5;241m=\u001b[39m\u001b[38;5;241m15\u001b[39m, \u001b[38;5;66;03m# Applicability window side\u001b[39;00m\n\u001b[0;32m   (...)\u001b[0m\n\u001b[1;32m     30\u001b[0m                  poly_sigma\u001b[38;5;241m=\u001b[39m\u001b[38;5;241m1.5\u001b[39m, \u001b[38;5;66;03m# Standard deviation of the Gaussian basis used in the polynomial expansion\u001b[39;00m\n\u001b[1;32m     31\u001b[0m                  flags\u001b[38;5;241m=\u001b[39m\u001b[38;5;241m0\u001b[39m):\u001b[38;5;66;03m#cv2.OPTFLOW_FARNEBACK_GAUSSIAN):\u001b[39;00m\n\u001b[1;32m     33\u001b[0m         \u001b[38;5;28msuper\u001b[39m()\u001b[38;5;241m.\u001b[39m\u001b[38;5;21m__init__\u001b[39m(levels\u001b[38;5;241m=\u001b[39mlevels,\n\u001b[1;32m     34\u001b[0m                          pyr_scale\u001b[38;5;241m=\u001b[39m\u001b[38;5;241m0.5\u001b[39m,\n\u001b[1;32m     35\u001b[0m                          win_side\u001b[38;5;241m=\u001b[39mwindow_side,\n\u001b[0;32m   (...)\u001b[0m\n\u001b[1;32m     38\u001b[0m                          poly_sigma\u001b[38;5;241m=\u001b[39mpoly_sigma,\n\u001b[1;32m     39\u001b[0m                          flags\u001b[38;5;241m=\u001b[39mflags)\n",
      "\u001b[0;31mAttributeError\u001b[0m: module 'motion_estimation' has no attribute '_2D'"
     ]
    }
   ],
   "source": [
    "# Run this cell if image_denoising is available as a package\n",
    "\n",
    "!pip install \"image_denoising @ git+https://github.com/microscopy-processing/image_denoising\"\n",
    "!pip show image_denoising\n",
    "import image_denoising"
   ]
  },
  {
   "cell_type": "code",
   "execution_count": null,
   "metadata": {},
   "outputs": [],
   "source": [
    "try:\n",
    "    from image_IO import image_1 as gray_image\n",
    "    from image_IO import image_3 as RGB_image\n",
    "except:\n",
    "    !pip install \"image_IO @ git+https://github.com/vicente-gonzalez-ruiz/image_IO\"\n",
    "    from image_IO import image_1 as gray_image\n",
    "    from image_IO import image_3 as RGB_image"
   ]
  },
  {
   "cell_type": "code",
   "execution_count": null,
   "metadata": {},
   "outputs": [],
   "source": [
    "!rm barb.png.?\n",
    "!wget http://www.hpca.ual.es/~vruiz/images/barb.png"
   ]
  },
  {
   "cell_type": "code",
   "execution_count": null,
   "metadata": {},
   "outputs": [],
   "source": [
    "img = gray_image.read(\"barb.png\")"
   ]
  },
  {
   "cell_type": "code",
   "execution_count": null,
   "metadata": {},
   "outputs": [],
   "source": [
    "gray_image.show(img, \"original\")"
   ]
  },
  {
   "cell_type": "code",
   "execution_count": null,
   "metadata": {},
   "outputs": [],
   "source": [
    "mean = 0\n",
    "var = 200\n",
    "sigma = var**0.5\n",
    "noise = np.random.normal(mean,sigma,img.shape).reshape(img.shape)\n",
    "noisy_img = np.clip((img + noise), 0, 255).astype(np.uint8)"
   ]
  },
  {
   "cell_type": "code",
   "execution_count": null,
   "metadata": {},
   "outputs": [],
   "source": [
    "gray_image.show(noisy_img, \"noisy\")"
   ]
  },
  {
   "cell_type": "markdown",
   "metadata": {},
   "source": [
    "## Gaussian"
   ]
  },
  {
   "cell_type": "code",
   "execution_count": null,
   "metadata": {},
   "outputs": [],
   "source": [
    "import image_denoising\n",
    "from image_denoising import gaussian\n",
    "image_denoising.gaussian.logger.setLevel(logging.WARNING)\n",
    "logging.getLevelName(image_denoising.gaussian.logger.getEffectiveLevel())"
   ]
  },
  {
   "cell_type": "code",
   "execution_count": null,
   "metadata": {},
   "outputs": [],
   "source": [
    "%%time\n",
    "\n",
    "GD__N_iters = 1\n",
    "GD__sigma = 2.5\n",
    "\n",
    "denoised, _ = image_denoising.gaussian.filter_gray_image(noisy_img, GD__sigma, GD__N_iters)"
   ]
  },
  {
   "cell_type": "code",
   "execution_count": null,
   "metadata": {},
   "outputs": [],
   "source": [
    "gray_image.show(denoised, \"GD\" + \"($\\sigma=\" + f\"{GD__sigma}, N={GD__N_iters}$)\")"
   ]
  },
  {
   "cell_type": "markdown",
   "metadata": {},
   "source": [
    "## OF-driven Gaussian"
   ]
  },
  {
   "cell_type": "code",
   "execution_count": null,
   "metadata": {},
   "outputs": [],
   "source": [
    "import image_denoising\n",
    "from image_denoising import OF_gaussian\n",
    "image_denoising.OF_gaussian.logger.setLevel(logging.WARNING)\n",
    "logging.getLevelName(image_denoising.OF_gaussian.logger.getEffectiveLevel())"
   ]
  },
  {
   "cell_type": "code",
   "execution_count": null,
   "metadata": {},
   "outputs": [],
   "source": [
    "%%time\n",
    "\n",
    "OFGD__sigma_kernel = 2.5\n",
    "OFGD__N_iters = 1\n",
    "OFGD__l = 1\n",
    "OFGD__w = 9\n",
    "OFGD__sigma_OF = 2.5\n",
    "\n",
    "denoised, _ = image_denoising.OF_gaussian.filter_gray_image(noisy_img, OFGD__sigma_kernel, OFGD__N_iters, OFGD__l, OFGD__w, OFGD__sigma_OF)"
   ]
  },
  {
   "cell_type": "code",
   "execution_count": null,
   "metadata": {},
   "outputs": [],
   "source": [
    "gray_image.show(denoised, \"OF-GD \" + \"($\\sigma_\\mathrm{kernel}=\" + f\"{OFGD__sigma_kernel}\"  + \", \\sigma_\\mathrm{OF}=\" + f\"{OFGD__sigma_OF}\" + f\", N={OFGD__N_iters}, l={OFGD__l}, w={OFGD__w}$)\")"
   ]
  },
  {
   "cell_type": "code",
   "execution_count": null,
   "metadata": {},
   "outputs": [],
   "source": [
    "%%time\n",
    "\n",
    "OFGD__sigma_kernel = 2.5\n",
    "OFGD__N_iters = 3\n",
    "OFGD__l = 1\n",
    "OFGD__w = 9\n",
    "OFGD__sigma_OF = 2.5\n",
    "\n",
    "denoised, _ = image_denoising.OF_gaussian.filter_gray_image(noisy_img, OFGD__sigma_kernel, OFGD__N_iters, OFGD__l, OFGD__w, OFGD__sigma_OF)"
   ]
  },
  {
   "cell_type": "code",
   "execution_count": null,
   "metadata": {},
   "outputs": [],
   "source": [
    "gray_image.show(denoised, \"OF-GD \" + \"($\\sigma_\\mathrm{kernel}=\" + f\"{OFGD__sigma_kernel}\"  + \", \\sigma_\\mathrm{OF}=\" + f\"{OFGD__sigma_OF}\" + f\", N={OFGD__N_iters}, l={OFGD__l}, w={OFGD__w}$)\")"
   ]
  },
  {
   "cell_type": "code",
   "execution_count": null,
   "metadata": {},
   "outputs": [],
   "source": [
    "%%time\n",
    "\n",
    "OFGD__sigma_kernel = 2.5\n",
    "OFGD__N_iters = 1\n",
    "OFGD__l = 3\n",
    "OFGD__w = 9\n",
    "OFGD__sigma_OF = 2.5\n",
    "\n",
    "denoised, _ = image_denoising.OF_gaussian.filter_gray_image(noisy_img, OFGD__sigma_kernel, OFGD__N_iters, OFGD__l, OFGD__w, OFGD__sigma_OF)"
   ]
  },
  {
   "cell_type": "code",
   "execution_count": null,
   "metadata": {},
   "outputs": [],
   "source": [
    "gray_image.show(denoised, \"denoised\")"
   ]
  },
  {
   "cell_type": "code",
   "execution_count": null,
   "metadata": {},
   "outputs": [],
   "source": [
    "%%time\n",
    "\n",
    "OFGD__sigma_kernel = 2.5\n",
    "OFGD__N_iters = 1\n",
    "OFGD__l = 3\n",
    "OFGD__w = 33\n",
    "OFGD__sigma_OF = 2.5\n",
    "\n",
    "denoised, _ = image_denoising.OF_gaussian.filter_gray_image(noisy_img, OFGD__sigma_kernel, OFGD__N_iters, OFGD__l, OFGD__w, OFGD__sigma_OF)"
   ]
  },
  {
   "cell_type": "code",
   "execution_count": null,
   "metadata": {},
   "outputs": [],
   "source": [
    "gray_image.show(denoised, \"OF-GD \" + \"($\\sigma_\\mathrm{kernel}=\" + f\"{OFGD__sigma_kernel}\"  + \", \\sigma_\\mathrm{OF}=\" + f\"{OFGD__sigma_OF}\" + f\", N={OFGD__N_iters}, l={OFGD__l}, w={OFGD__w}$)\")"
   ]
  },
  {
   "cell_type": "code",
   "execution_count": null,
   "metadata": {},
   "outputs": [],
   "source": [
    "%%time\n",
    "\n",
    "OFGD__sigma_kernel = 2.5\n",
    "OFGD__N_iters = 1\n",
    "OFGD__l = 3\n",
    "OFGD__w = 33\n",
    "OFGD__sigma_OF = 0.5\n",
    "\n",
    "denoised, _ = image_denoising.OF_gaussian.filter_gray_image(noisy_img, OFGD__sigma_kernel, OFGD__N_iters, OFGD__l, OFGD__w, OFGD__sigma_OF)"
   ]
  },
  {
   "cell_type": "code",
   "execution_count": null,
   "metadata": {},
   "outputs": [],
   "source": [
    "gray_image.show(denoised, \"OF-GD \" + \"($\\sigma_\\mathrm{kernel}=\" + f\"{OFGD__sigma_kernel}\"  + \", \\sigma_\\mathrm{OF}=\" + f\"{OFGD__sigma_OF}\" + f\", N={OFGD__N_iters}, l={OFGD__l}, w={OFGD__w}$)\")"
   ]
  },
  {
   "cell_type": "code",
   "execution_count": null,
   "metadata": {},
   "outputs": [],
   "source": [
    "%%time\n",
    "\n",
    "OFGD__sigma_kernel = 2.5\n",
    "OFGD__N_iters = 1\n",
    "OFGD__l = 3\n",
    "OFGD__w = 33\n",
    "OFGD__sigma_OF = 0.25\n",
    "\n",
    "denoised, _ = image_denoising.OF_gaussian.filter_gray_image(noisy_img, OFGD__sigma_kernel, OFGD__N_iters, OFGD__l, OFGD__w, OFGD__sigma_OF)"
   ]
  },
  {
   "cell_type": "code",
   "execution_count": null,
   "metadata": {},
   "outputs": [],
   "source": [
    "gray_image.show(denoised, \"OF-GD \" + \"($\\sigma_\\mathrm{kernel}=\" + f\"{OFGD__sigma_kernel}\"  + \", \\sigma_\\mathrm{OF}=\" + f\"{OFGD__sigma_OF}\" + f\", N={OFGD__N_iters}, l={OFGD__l}, w={OFGD__w}$)\")"
   ]
  },
  {
   "cell_type": "code",
   "execution_count": null,
   "metadata": {},
   "outputs": [],
   "source": [
    "%%time\n",
    "\n",
    "OFGD__sigma_kernel = 2.5\n",
    "OFGD__N_iters = 1\n",
    "OFGD__l = 3\n",
    "OFGD__w = 17\n",
    "OFGD__sigma_OF = 0.25\n",
    "\n",
    "denoised, _ = image_denoising.OF_gaussian.filter_gray_image(noisy_img, OFGD__sigma_kernel, OFGD__N_iters, OFGD__l, OFGD__w, OFGD__sigma_OF)"
   ]
  },
  {
   "cell_type": "code",
   "execution_count": null,
   "metadata": {},
   "outputs": [],
   "source": [
    "gray_image.show(denoised, \"OF-GD \" + \"($\\sigma_\\mathrm{kernel}=\" + f\"{OFGD__sigma_kernel}\"  + \", \\sigma_\\mathrm{OF}=\" + f\"{OFGD__sigma_OF}\" + f\", N={OFGD__N_iters}, l={OFGD__l}, w={OFGD__w}$)\")"
   ]
  },
  {
   "cell_type": "code",
   "execution_count": null,
   "metadata": {},
   "outputs": [],
   "source": [
    "%%time\n",
    "\n",
    "OFGD__sigma_kernel = 0.5\n",
    "OFGD__N_iters = 1\n",
    "OFGD__l = 3\n",
    "OFGD__w = 17\n",
    "OFGD__sigma_OF = 0.25\n",
    "\n",
    "denoised, _ = image_denoising.OF_gaussian.filter_gray_image(noisy_img, OFGD__sigma_kernel, OFGD__N_iters, OFGD__l, OFGD__w, OFGD__sigma_OF)"
   ]
  },
  {
   "cell_type": "code",
   "execution_count": null,
   "metadata": {},
   "outputs": [],
   "source": [
    "gray_image.show(denoised, \"OF-GD \" + \"($\\sigma_\\mathrm{kernel}=\" + f\"{OFGD__sigma_kernel}\"  + \", \\sigma_\\mathrm{OF}=\" + f\"{OFGD__sigma_OF}\" + f\", N={OFGD__N_iters}, l={OFGD__l}, w={OFGD__w}$)\")"
   ]
  },
  {
   "cell_type": "code",
   "execution_count": null,
   "metadata": {},
   "outputs": [],
   "source": [
    "%%time\n",
    "\n",
    "OFGD__sigma_kernel = 0.5\n",
    "OFGD__N_iters = 1\n",
    "OFGD__l = 3\n",
    "OFGD__w = 17\n",
    "OFGD__sigma_OF = 2.5\n",
    "\n",
    "denoised, _ = image_denoising.OF_gaussian.filter_gray_image(noisy_img, OFGD__sigma_kernel, OFGD__N_iters, OFGD__l, OFGD__w, OFGD__sigma_OF)"
   ]
  },
  {
   "cell_type": "code",
   "execution_count": null,
   "metadata": {},
   "outputs": [],
   "source": [
    "gray_image.show(denoised, \"OF-GD \" + \"($\\sigma_\\mathrm{kernel}=\" + f\"{OFGD__sigma_kernel}\"  + \", \\sigma_\\mathrm{OF}=\" + f\"{OFGD__sigma_OF}\" + f\", N={OFGD__N_iters}, l={OFGD__l}, w={OFGD__w}$)\")"
   ]
  },
  {
   "cell_type": "code",
   "execution_count": null,
   "metadata": {},
   "outputs": [],
   "source": [
    "%%time\n",
    "\n",
    "OFGD__sigma_kernel = 0.5\n",
    "OFGD__N_iters = 1\n",
    "OFGD__l = 3\n",
    "OFGD__w = 7\n",
    "OFGD__sigma_OF = 2.5\n",
    "\n",
    "denoised, _ = image_denoising.OF_gaussian.filter_gray_image(noisy_img, OFGD__sigma_kernel, OFGD__N_iters, OFGD__l, OFGD__w, OFGD__sigma_OF)"
   ]
  },
  {
   "cell_type": "code",
   "execution_count": null,
   "metadata": {},
   "outputs": [],
   "source": [
    "gray_image.show(denoised, \"OF-GD \" + \"($\\sigma_\\mathrm{kernel}=\" + f\"{OFGD__sigma_kernel}\"  + \", \\sigma_\\mathrm{OF}=\" + f\"{OFGD__sigma_OF}\" + f\", N={OFGD__N_iters}, l={OFGD__l}, w={OFGD__w}$)\")"
   ]
  },
  {
   "cell_type": "code",
   "execution_count": null,
   "metadata": {},
   "outputs": [],
   "source": [
    "%%time\n",
    "\n",
    "OFGD__sigma_kernel = 3.5\n",
    "OFGD__N_iters = 1\n",
    "OFGD__l = 3\n",
    "OFGD__w = 15\n",
    "OFGD__sigma_OF = 2.5\n",
    "\n",
    "denoised, _ = image_denoising.OF_gaussian.filter_gray_image(noisy_img, OFGD__sigma_kernel, OFGD__N_iters, OFGD__l, OFGD__w, OFGD__sigma_OF)"
   ]
  },
  {
   "cell_type": "code",
   "execution_count": null,
   "metadata": {},
   "outputs": [],
   "source": [
    "gray_image.show(denoised, \"OF-GD \" + \"($\\sigma_\\mathrm{kernel}=\" + f\"{OFGD__sigma_kernel}\"  + \", \\sigma_\\mathrm{OF}=\" + f\"{OFGD__sigma_OF}\" + f\", N={OFGD__N_iters}, l={OFGD__l}, w={OFGD__w}$)\")"
   ]
  },
  {
   "cell_type": "markdown",
   "metadata": {},
   "source": [
    "## OF-driven Random"
   ]
  },
  {
   "cell_type": "code",
   "execution_count": null,
   "metadata": {},
   "outputs": [],
   "source": [
    "import image_denoising\n",
    "from image_denoising import OF_random\n",
    "image_denoising.OF_random.logger.setLevel(logging.WARNING)\n",
    "logging.getLevelName(image_denoising.OF_random.logger.getEffectiveLevel())"
   ]
  },
  {
   "cell_type": "code",
   "execution_count": null,
   "metadata": {},
   "outputs": [],
   "source": [
    "%%time\n",
    "\n",
    "OFRD__N_iters = 50\n",
    "OFRD__sigma_random = 1.0\n",
    "OFRD__l = 3\n",
    "OFRD__w = 11\n",
    "OFRD__sigma_OF = 0.25\n",
    "\n",
    "denoised, _ = image_denoising.OF_random.filter(\n",
    "    image_denoising.OF_random.warp_B_to_A,\n",
    "    noisy_img,\n",
    "    N_iters=OFRD__N_iters,\n",
    "    sigma_RD=OFRD__sigma_random,\n",
    "    l=OFRD__l,\n",
    "    w=OFRD__w,\n",
    "    sigma_OF=OFRD__sigma_OF)"
   ]
  },
  {
   "cell_type": "code",
   "execution_count": null,
   "metadata": {},
   "outputs": [],
   "source": [
    "gray_image.show(denoised, \"OF-RD \" + \"($\\sigma_\\mathrm{OF}=\" + f\"{OFRD__sigma_OF}, \" + \"\\sigma_\\mathrm{random}=\" + f\"{OFRD__sigma_random}, \" + f\"N={OFRD__N_iters}, l={OFRD__l}, w={OFRD__w}$)\")"
   ]
  },
  {
   "cell_type": "code",
   "execution_count": null,
   "metadata": {},
   "outputs": [],
   "source": [
    "%%time\n",
    "\n",
    "OFRD__N_iters = 50\n",
    "OFRD__sigma_random = 1.0\n",
    "OFRD__l = 3\n",
    "OFRD__w = 11\n",
    "OFRD__sigma_OF = 1.25\n",
    "\n",
    "denoised, _ = image_denoising.OF_random.filter(\n",
    "    image_denoising.OF_random.warp_B_to_A,\n",
    "    noisy_img,\n",
    "    N_iters=OFRD__N_iters,\n",
    "    sigma_RD=OFRD__sigma_random,\n",
    "    l=OFRD__l,\n",
    "    w=OFRD__w,\n",
    "    sigma_OF=OFRD__sigma_OF)"
   ]
  },
  {
   "cell_type": "code",
   "execution_count": null,
   "metadata": {},
   "outputs": [],
   "source": [
    "gray_image.show(denoised, \"OF-RD \" + \"($\\sigma_\\mathrm{OF}=\" + f\"{OFRD__sigma_OF}, \" + \"\\sigma_\\mathrm{random}=\" + f\"{OFRD__sigma_random}, \" + f\"N={OFRD__N_iters}, l={OFRD__l}, w={OFRD__w}$)\")"
   ]
  },
  {
   "cell_type": "code",
   "execution_count": null,
   "metadata": {},
   "outputs": [],
   "source": [
    "%%time\n",
    "\n",
    "OFRD__N_iters = 50\n",
    "OFRD__sigma_random = 0.5\n",
    "OFRD__l = 3\n",
    "OFRD__w = 11\n",
    "OFRD__sigma_OF = 0.25\n",
    "\n",
    "denoised, _ = image_denoising.OF_random.filter(\n",
    "    image_denoising.OF_random.warp_B_to_A,\n",
    "    noisy_img,\n",
    "    N_iters=OFRD__N_iters,\n",
    "    sigma_RD=OFRD__sigma_random,\n",
    "    l=OFRD__l,\n",
    "    w=OFRD__w,\n",
    "    sigma_OF=OFRD__sigma_OF)"
   ]
  },
  {
   "cell_type": "code",
   "execution_count": null,
   "metadata": {},
   "outputs": [],
   "source": [
    "gray_image.show(denoised, \"OF-RD \" + \"($\\sigma_\\mathrm{OF}=\" + f\"{OFRD__sigma_OF}, \" + \"\\sigma_\\mathrm{random}=\" + f\"{OFRD__sigma_random}, \" + f\"N={OFRD__N_iters}, l={OFRD__l}, w={OFRD__w}$)\")"
   ]
  },
  {
   "cell_type": "code",
   "execution_count": null,
   "metadata": {},
   "outputs": [],
   "source": [
    "%%time\n",
    "\n",
    "OFRD__N_iters = 100\n",
    "OFRD__sigma_random = 0.5\n",
    "OFRD__l = 3\n",
    "OFRD__w = 11\n",
    "OFRD__sigma_OF = 0.25\n",
    "\n",
    "denoised, _ = image_denoising.OF_random.filter(\n",
    "    image_denoising.OF_random.warp_B_to_A,\n",
    "    noisy_img,\n",
    "    N_iters=OFRD__N_iters,\n",
    "    sigma_RD=OFRD__sigma_random,\n",
    "    l=OFRD__l,\n",
    "    w=OFRD__w,\n",
    "    sigma_OF=OFRD__sigma_OF)"
   ]
  },
  {
   "cell_type": "code",
   "execution_count": null,
   "metadata": {},
   "outputs": [],
   "source": [
    "gray_image.show(denoised, \"OF-RD \" + \"($\\sigma_\\mathrm{OF}=\" + f\"{OFRD__sigma_OF}, \" + \"\\sigma_\\mathrm{random}=\" + f\"{OFRD__sigma_random}, \" + f\"N={OFRD__N_iters}, l={OFRD__l}, w={OFRD__w}$)\")"
   ]
  },
  {
   "cell_type": "code",
   "execution_count": null,
   "metadata": {},
   "outputs": [],
   "source": [
    "%%time\n",
    "\n",
    "OFRD__N_iters = 50\n",
    "OFRD__sigma_random = 1.0\n",
    "OFRD__l = 3\n",
    "OFRD__w = 3\n",
    "OFRD__sigma_OF = 0.25\n",
    "\n",
    "denoised, _ = image_denoising.OF_random.filter(\n",
    "    image_denoising.OF_random.warp_B_to_A,\n",
    "    noisy_img,\n",
    "    N_iters=OFRD__N_iters,\n",
    "    sigma_RD=OFRD__sigma_random,\n",
    "    l=OFRD__l,\n",
    "    w=OFRD__w,\n",
    "    sigma_OF=OFRD__sigma_OF)"
   ]
  },
  {
   "cell_type": "code",
   "execution_count": null,
   "metadata": {},
   "outputs": [],
   "source": [
    "gray_image.show(denoised, \"OF-RD \" + \"($\\sigma_\\mathrm{OF}=\" + f\"{OFRD__sigma_OF}, \" + \"\\sigma_\\mathrm{random}=\" + f\"{OFRD__sigma_random}, \" + f\"N={OFRD__N_iters}, l={OFRD__l}, w={OFRD__w}$)\")"
   ]
  },
  {
   "cell_type": "code",
   "execution_count": null,
   "metadata": {},
   "outputs": [],
   "source": [
    "%%time\n",
    "\n",
    "OFRD__N_iters = 50\n",
    "OFRD__sigma_random = 0.5\n",
    "OFRD__l = 1\n",
    "OFRD__w = 3\n",
    "OFRD__sigma_OF = 0.25\n",
    "\n",
    "denoised, _ = image_denoising.OF_random.filter(\n",
    "    image_denoising.OF_random.warp_B_to_A,\n",
    "    noisy_img,\n",
    "    N_iters=OFRD__N_iters,\n",
    "    sigma_RD=OFRD__sigma_random,\n",
    "    l=OFRD__l,\n",
    "    w=OFRD__w,\n",
    "    sigma_OF=OFRD__sigma_OF)"
   ]
  },
  {
   "cell_type": "code",
   "execution_count": null,
   "metadata": {},
   "outputs": [],
   "source": [
    "gray_image.show(denoised, \"OF-RD \" + \"($\\sigma_\\mathrm{OF}=\" + f\"{OFRD__sigma_OF}, \" + \"\\sigma_\\mathrm{random}=\" + f\"{OFRD__sigma_random}, \" + f\"N={OFRD__N_iters}, l={OFRD__l}, w={OFRD__w}$)\")"
   ]
  },
  {
   "cell_type": "code",
   "execution_count": null,
   "metadata": {},
   "outputs": [],
   "source": [
    "%%time\n",
    "\n",
    "OFRD__N_iters = 50\n",
    "OFRD__sigma_random = 0.5\n",
    "OFRD__l = 1\n",
    "OFRD__w = 5\n",
    "OFRD__sigma_OF = 0.25\n",
    "\n",
    "denoised, _ = image_denoising.OF_random.filter(\n",
    "    image_denoising.OF_random.warp_B_to_A,\n",
    "    noisy_img,\n",
    "    N_iters=OFRD__N_iters,\n",
    "    sigma_RD=OFRD__sigma_random,\n",
    "    l=OFRD__l,\n",
    "    w=OFRD__w,\n",
    "    sigma_OF=OFRD__sigma_OF)"
   ]
  },
  {
   "cell_type": "code",
   "execution_count": null,
   "metadata": {},
   "outputs": [],
   "source": [
    "gray_image.show(denoised, \"OF-RD \" + \"($\\sigma_\\mathrm{OF}=\" + f\"{OFRD__sigma_OF}, \" + \"\\sigma_\\mathrm{random}=\" + f\"{OFRD__sigma_random}, \" + f\"N={OFRD__N_iters}, l={OFRD__l}, w={OFRD__w}$)\")"
   ]
  },
  {
   "cell_type": "code",
   "execution_count": null,
   "metadata": {},
   "outputs": [],
   "source": [
    "%%time\n",
    "\n",
    "OFRD__N_iters = 50\n",
    "OFRD__sigma_random = 0.5\n",
    "OFRD__l = 1\n",
    "OFRD__w = 17\n",
    "OFRD__sigma_OF = 0.25\n",
    "\n",
    "denoised, _ = image_denoising.OF_random.filter(\n",
    "    image_denoising.OF_random.warp_B_to_A,\n",
    "    noisy_img,\n",
    "    N_iters=OFRD__N_iters,\n",
    "    sigma_RD=OFRD__sigma_random,\n",
    "    l=OFRD__l,\n",
    "    w=OFRD__w,\n",
    "    sigma_OF=OFRD__sigma_OF)"
   ]
  },
  {
   "cell_type": "code",
   "execution_count": null,
   "metadata": {},
   "outputs": [],
   "source": [
    "gray_image.show(denoised, \"OF-RD \" + \"($\\sigma_\\mathrm{OF}=\" + f\"{OFRD__sigma_OF}, \" + \"\\sigma_\\mathrm{random}=\" + f\"{OFRD__sigma_random}, \" + f\"N={OFRD__N_iters}, l={OFRD__l}, w={OFRD__w}$)\")"
   ]
  },
  {
   "cell_type": "code",
   "execution_count": null,
   "metadata": {},
   "outputs": [],
   "source": [
    "%%time\n",
    "\n",
    "OFRD__N_iters = 100\n",
    "OFRD__sigma_random = 0.5\n",
    "OFRD__l = 1\n",
    "OFRD__w = 17\n",
    "OFRD__sigma_OF = 0.25\n",
    "\n",
    "denoised, _ = image_denoising.OF_random.filter(\n",
    "    image_denoising.OF_random.warp_B_to_A,\n",
    "    noisy_img,\n",
    "    N_iters=OFRD__N_iters,\n",
    "    sigma_RD=OFRD__sigma_random,\n",
    "    l=OFRD__l,\n",
    "    w=OFRD__w,\n",
    "    sigma_OF=OFRD__sigma_OF)"
   ]
  },
  {
   "cell_type": "code",
   "execution_count": null,
   "metadata": {},
   "outputs": [],
   "source": [
    "gray_image.show(denoised, \"OF-RD \" + \"($\\sigma_\\mathrm{OF}=\" + f\"{OFRD__sigma_OF}, \" + \"\\sigma_\\mathrm{random}=\" + f\"{OFRD__sigma_random}, \" + f\"N={OFRD__N_iters}, l={OFRD__l}, w={OFRD__w}$)\")"
   ]
  },
  {
   "cell_type": "code",
   "execution_count": null,
   "metadata": {},
   "outputs": [],
   "source": [
    "%%time\n",
    "\n",
    "OFRD__N_iters = 100\n",
    "OFRD__sigma_random = 0.5\n",
    "OFRD__l = 1\n",
    "OFRD__w = 17\n",
    "OFRD__sigma_OF = 0.75\n",
    "\n",
    "denoised, _ = image_denoising.OF_random.filter(\n",
    "    image_denoising.OF_random.warp_B_to_A,\n",
    "    noisy_img,\n",
    "    N_iters=OFRD__N_iters,\n",
    "    sigma_RD=OFRD__sigma_random,\n",
    "    l=OFRD__l,\n",
    "    w=OFRD__w,\n",
    "    sigma_OF=OFRD__sigma_OF)"
   ]
  },
  {
   "cell_type": "code",
   "execution_count": null,
   "metadata": {},
   "outputs": [],
   "source": [
    "gray_image.show(denoised, \"OF-RD \" + \"($\\sigma_\\mathrm{OF}=\" + f\"{OFRD__sigma_OF}, \" + \"\\sigma_\\mathrm{random}=\" + f\"{OFRD__sigma_random}, \" + f\"N={OFRD__N_iters}, l={OFRD__l}, w={OFRD__w}$)\")"
   ]
  },
  {
   "cell_type": "code",
   "execution_count": null,
   "metadata": {},
   "outputs": [],
   "source": [
    "%%time\n",
    "\n",
    "OFRD__N_iters = 100\n",
    "OFRD__sigma_random = 0.5\n",
    "OFRD__l = 1\n",
    "OFRD__w = 17\n",
    "OFRD__sigma_OF = 0.75\n",
    "\n",
    "denoised, _ = image_denoising.OF_random.filter(\n",
    "    image_denoising.OF_random.warp_B_to_A,\n",
    "    noisy_img,\n",
    "    N_iters=OFRD__N_iters,\n",
    "    sigma_RD=OFRD__sigma_random,\n",
    "    l=OFRD__l,\n",
    "    w=OFRD__w,\n",
    "    sigma_OF=OFRD__sigma_OF)"
   ]
  },
  {
   "cell_type": "code",
   "execution_count": null,
   "metadata": {},
   "outputs": [],
   "source": [
    "gray_image.show(denoised, \"OF-RD \" + \"($\\sigma_\\mathrm{OF}=\" + f\"{OFRD__sigma_OF}, \" + \"\\sigma_\\mathrm{random}=\" + f\"{OFRD__sigma_random}, \" + f\"N={OFRD__N_iters}, l={OFRD__l}, w={OFRD__w}$)\")"
   ]
  },
  {
   "cell_type": "code",
   "execution_count": null,
   "metadata": {},
   "outputs": [],
   "source": [
    "%%time\n",
    "\n",
    "OFRD__N_iters = 100\n",
    "OFRD__sigma_random = 0.5\n",
    "OFRD__l = 1\n",
    "OFRD__w = 7\n",
    "OFRD__sigma_OF = 0.75\n",
    "\n",
    "denoised, _ = image_denoising.OF_random.filter(\n",
    "    image_denoising.OF_random.warp_B_to_A,\n",
    "    noisy_img,\n",
    "    N_iters=OFRD__N_iters,\n",
    "    sigma_RD=OFRD__sigma_random,\n",
    "    l=OFRD__l,\n",
    "    w=OFRD__w,\n",
    "    sigma_OF=OFRD__sigma_OF)"
   ]
  },
  {
   "cell_type": "code",
   "execution_count": null,
   "metadata": {},
   "outputs": [],
   "source": [
    "gray_image.show(denoised, \"OF-RD \" + \"($\\sigma_\\mathrm{OF}=\" + f\"{OFRD__sigma_OF}, \" + \"\\sigma_\\mathrm{random}=\" + f\"{OFRD__sigma_random}, \" + f\"N={OFRD__N_iters}, l={OFRD__l}, w={OFRD__w}$)\")"
   ]
  },
  {
   "cell_type": "code",
   "execution_count": null,
   "metadata": {},
   "outputs": [],
   "source": [
    "input()"
   ]
  },
  {
   "cell_type": "markdown",
   "metadata": {},
   "source": [
    "## Old stuff"
   ]
  },
  {
   "cell_type": "code",
   "execution_count": null,
   "metadata": {
    "scrolled": true
   },
   "outputs": [],
   "source": [
    "denoised_img = _2D_OF_denoising.filter(noisy_img, kernel, l=1, w=33)"
   ]
  },
  {
   "cell_type": "code",
   "execution_count": null,
   "metadata": {
    "id": "2Z2NYLUDK6L-"
   },
   "outputs": [],
   "source": [
    "gray_image.show(denoised_img, \"denoised\")"
   ]
  },
  {
   "cell_type": "code",
   "execution_count": null,
   "metadata": {
    "id": "CbtykqDNaqL1"
   },
   "outputs": [],
   "source": [
    "print(f\"time: {time.process_time()} seconds\")"
   ]
  },
  {
   "cell_type": "code",
   "execution_count": null,
   "metadata": {},
   "outputs": [],
   "source": [
    "!pip install mrcfile\n",
    "import mrcfile"
   ]
  },
  {
   "cell_type": "code",
   "execution_count": null,
   "metadata": {},
   "outputs": [],
   "source": [
    "input_format = \"rec\"\n",
    "tomogram_name = \"/home/vruiz/Descargas/TS01-wbp\"\n",
    "tomogram_MRC = mrcfile.open(f'{tomogram_name}.{input_format}')\n",
    "print(f\"tomogram_name={tomogram_name} type={tomogram_MRC.data.dtype} shape={tomogram_MRC.data.shape}\")\n",
    "tomogram = tomogram_MRC.data"
   ]
  },
  {
   "cell_type": "code",
   "execution_count": null,
   "metadata": {},
   "outputs": [],
   "source": [
    "denoised_tomogram = _2D_OF_denoising.filter_over_Y(tomogram, kernel, l=2, w=3)"
   ]
  },
  {
   "cell_type": "code",
   "execution_count": null,
   "metadata": {},
   "outputs": [],
   "source": [
    "import matplotlib.pyplot as plt\n",
    "from ipywidgets import *\n",
    "import cv2"
   ]
  },
  {
   "cell_type": "code",
   "execution_count": null,
   "metadata": {},
   "outputs": [],
   "source": [
    "def g(z=0):\n",
    "  #cv2_imshow(cv2.normalize(tomogram[z, :, :][0:200,0:200].astype(np.uint8), None, 0, 255, cv2.NORM_MINMAX))\n",
    "  #cv2_imshow(cv2.normalize(tomogram[z, :, :].astype(np.uint8), None, 0, 255, cv2.NORM_MINMAX))\n",
    "  plt.imshow(cv2.normalize(tomogram[z, :, :], None, 0, 255, cv2.NORM_MINMAX))\n",
    "  plt.imshow(cv2.normalize(denoised_tomogram[z, :, :], None, 0, 255, cv2.NORM_MINMAX))\n",
    "\n",
    "interactive_plot = interactive(g, z=100)\n",
    "interactive_plot"
   ]
  },
  {
   "cell_type": "code",
   "execution_count": null,
   "metadata": {},
   "outputs": [],
   "source": [
    "fake_tomogram = np.stack([np.roll(noisy_img,0) for i in range(64)])"
   ]
  },
  {
   "cell_type": "code",
   "execution_count": null,
   "metadata": {},
   "outputs": [],
   "source": [
    "def g(z=0):\n",
    "  plt.imshow(cv2.normalize(fake_tomogram[:, z, :], None, 0, 255, cv2.NORM_MINMAX))\n",
    "\n",
    "interactive_plot = interactive(g, z=10)\n",
    "interactive_plot"
   ]
  },
  {
   "cell_type": "code",
   "execution_count": null,
   "metadata": {},
   "outputs": [],
   "source": [
    "fake_denoised_tomogram = _2D_OF_denoising.filter_over_X(fake_tomogram, kernel, l=2, w=3)"
   ]
  },
  {
   "cell_type": "code",
   "execution_count": null,
   "metadata": {},
   "outputs": [],
   "source": [
    "try:\n",
    "    import optical_flow as motion\n",
    "    import display\n",
    "    import prediction\n",
    "except:\n",
    "    !pip install \"motion_estimation @ git+https://github.com/vicente-gonzalez-ruiz/motion_estimation\"\n",
    "    from motion_estimation import optical_flow as motion\n",
    "    from motion_estimation import display\n",
    "    from motion_estimation import prediction"
   ]
  },
  {
   "cell_type": "code",
   "execution_count": null,
   "metadata": {},
   "outputs": [],
   "source": [
    "initial_MVs = np.zeros((fake_tomogram[:, 0, :].shape[0], fake_tomogram[:, 0, :].shape[1], 2), dtype=np.float32)\n",
    "MVs = motion.Farneback_ME(predicted=fake_tomogram[:, 10, :], reference=fake_tomogram[:, 15, :], initial_MVs=initial_MVs)"
   ]
  },
  {
   "cell_type": "code",
   "execution_count": null,
   "metadata": {},
   "outputs": [],
   "source": [
    "#display.show_vectors(MVs[::1, ::1])\n",
    "display.show_vectors(MVs)"
   ]
  },
  {
   "cell_type": "code",
   "execution_count": null,
   "metadata": {},
   "outputs": [],
   "source": [
    "np.max(MVs)"
   ]
  },
  {
   "cell_type": "code",
   "execution_count": null,
   "metadata": {},
   "outputs": [],
   "source": [
    "MVs[32,...]"
   ]
  },
  {
   "cell_type": "code",
   "execution_count": null,
   "metadata": {},
   "outputs": [],
   "source": [
    "initial_MVs = np.zeros((tomogram[:, 0, :].shape[0], tomogram[:, 0, :].shape[1], 2), dtype=np.float32)\n",
    "MVs = motion.Farneback_ME(predicted=tomogram[:, 1, :], reference=tomogram[:, 2, :], initial_MVs=initial_MVs)"
   ]
  },
  {
   "cell_type": "code",
   "execution_count": null,
   "metadata": {},
   "outputs": [],
   "source": [
    "np.max(MVs)"
   ]
  },
  {
   "cell_type": "code",
   "execution_count": null,
   "metadata": {},
   "outputs": [],
   "source": [
    "tomogram.dtype"
   ]
  },
  {
   "cell_type": "code",
   "execution_count": null,
   "metadata": {},
   "outputs": [],
   "source": [
    "fake_tomogram.dtype"
   ]
  },
  {
   "cell_type": "code",
   "execution_count": null,
   "metadata": {},
   "outputs": [],
   "source": [
    "RGB_image.show(display.colorize(MVs))"
   ]
  },
  {
   "cell_type": "code",
   "execution_count": null,
   "metadata": {},
   "outputs": [],
   "source": []
  }
 ],
 "metadata": {
  "colab": {
   "collapsed_sections": [],
   "name": "gaussian_denoising.ipynb",
   "provenance": []
  },
  "kernelspec": {
   "display_name": "Python 3 (ipykernel)",
   "language": "python",
   "name": "python3"
  },
  "language_info": {
   "codemirror_mode": {
    "name": "ipython",
    "version": 3
   },
   "file_extension": ".py",
   "mimetype": "text/x-python",
   "name": "python",
   "nbconvert_exporter": "python",
   "pygments_lexer": "ipython3",
   "version": "3.10.12"
  }
 },
 "nbformat": 4,
 "nbformat_minor": 4
}
