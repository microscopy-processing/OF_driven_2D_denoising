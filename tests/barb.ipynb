{
 "cells": [
  {
   "cell_type": "markdown",
   "metadata": {
    "id": "QqfKxC0KuCzK"
   },
   "source": [
    "# OF-driven Gaussian denoising"
   ]
  },
  {
   "cell_type": "code",
   "execution_count": null,
   "metadata": {},
   "outputs": [],
   "source": [
    "!which python"
   ]
  },
  {
   "cell_type": "code",
   "execution_count": null,
   "metadata": {},
   "outputs": [],
   "source": [
    "#!pip install --upgrade pip"
   ]
  },
  {
   "cell_type": "code",
   "execution_count": null,
   "metadata": {
    "id": "IIUxh4uStrQJ"
   },
   "outputs": [],
   "source": [
    "import numpy as np\n",
    "import scipy.ndimage\n",
    "import matplotlib.pyplot as plt\n",
    "from ipywidgets import *\n",
    "import cv2\n",
    "import time\n",
    "#import kernels\n",
    "#import _2D_OF_denoising2 as _2D_OF_denoising\n",
    "import logging"
   ]
  },
  {
   "cell_type": "code",
   "execution_count": null,
   "metadata": {},
   "outputs": [],
   "source": [
    "!pip uninstall -y \"image_denoising @ git+https://github.com/microscopy-processing/image_denoising\""
   ]
  },
  {
   "cell_type": "code",
   "execution_count": null,
   "metadata": {},
   "outputs": [],
   "source": [
    "# Run this cell if image_denoising is available as a package\n",
    "\n",
    "!pip install \"image_denoising @ git+https://github.com/microscopy-processing/image_denoising\"\n",
    "!pip show image_denoising\n",
    "import image_denoising"
   ]
  },
  {
   "cell_type": "code",
   "execution_count": null,
   "metadata": {},
   "outputs": [],
   "source": [
    "try:\n",
    "    from image_IO import image_1 as gray_image\n",
    "    from image_IO import image_3 as RGB_image\n",
    "except:\n",
    "    !pip install \"image_IO @ git+https://github.com/vicente-gonzalez-ruiz/image_IO\"\n",
    "    from image_IO import image_1 as gray_image\n",
    "    from image_IO import image_3 as RGB_image"
   ]
  },
  {
   "cell_type": "code",
   "execution_count": null,
   "metadata": {},
   "outputs": [],
   "source": [
    "!rm barb.png.?\n",
    "!wget http://www.hpca.ual.es/~vruiz/images/barb.png"
   ]
  },
  {
   "cell_type": "code",
   "execution_count": null,
   "metadata": {},
   "outputs": [],
   "source": [
    "img = gray_image.read(\"barb.png\")"
   ]
  },
  {
   "cell_type": "code",
   "execution_count": null,
   "metadata": {},
   "outputs": [],
   "source": [
    "gray_image.show(img, \"original\")"
   ]
  },
  {
   "cell_type": "code",
   "execution_count": null,
   "metadata": {},
   "outputs": [],
   "source": [
    "mean = 0\n",
    "var = 200\n",
    "sigma = var**0.5\n",
    "noise = np.random.normal(mean,sigma,img.shape).reshape(img.shape)\n",
    "noisy_img = np.clip((img + noise), 0, 255).astype(np.uint8)"
   ]
  },
  {
   "cell_type": "code",
   "execution_count": null,
   "metadata": {},
   "outputs": [],
   "source": [
    "gray_image.show(noisy_img, \"noisy\")"
   ]
  },
  {
   "cell_type": "markdown",
   "metadata": {},
   "source": [
    "## Gaussian"
   ]
  },
  {
   "cell_type": "code",
   "execution_count": null,
   "metadata": {},
   "outputs": [],
   "source": [
    "import image_denoising\n",
    "from image_denoising import gaussian\n",
    "image_denoising.gaussian.logger.setLevel(logging.WARNING)\n",
    "logging.getLevelName(image_denoising.gaussian.logger.getEffectiveLevel())"
   ]
  },
  {
   "cell_type": "code",
   "execution_count": null,
   "metadata": {},
   "outputs": [],
   "source": [
    "%%time\n",
    "\n",
    "GD__N_iters = 1\n",
    "GD__sigma = 2.5\n",
    "\n",
    "denoised, _ = image_denoising.gaussian.filter_gray_image(noisy_img, GD__sigma, GD__N_iters)"
   ]
  },
  {
   "cell_type": "code",
   "execution_count": null,
   "metadata": {},
   "outputs": [],
   "source": [
    "gray_image.show(denoised, \"GD\" + \"($\\sigma=\" + f\"{GD__sigma}, N={GD__N_iters}$)\")"
   ]
  },
  {
   "cell_type": "markdown",
   "metadata": {},
   "source": [
    "## OF-driven Gaussian"
   ]
  },
  {
   "cell_type": "code",
   "execution_count": null,
   "metadata": {},
   "outputs": [],
   "source": [
    "import image_denoising\n",
    "from image_denoising import OF_gaussian\n",
    "image_denoising.OF_gaussian.logger.setLevel(logging.WARNING)\n",
    "logging.getLevelName(image_denoising.OF_gaussian.logger.getEffectiveLevel())"
   ]
  },
  {
   "cell_type": "code",
   "execution_count": null,
   "metadata": {
    "scrolled": true
   },
   "outputs": [],
   "source": [
    "%%time\n",
    "\n",
    "OFGD__sigma_kernel = 2.5\n",
    "OFGD__N_iters = 1\n",
    "OFGD__l = 1\n",
    "OFGD__w = 9\n",
    "OFGD__sigma_OF = 1.0\n",
    "\n",
    "denoised, _ = image_denoising.OF_gaussian.filter_gray_image(noisy_img, OFGD__sigma_kernel, OFGD__N_iters, OFGD__l, OFGD__w, OFGD__sigma_OF)"
   ]
  },
  {
   "cell_type": "code",
   "execution_count": null,
   "metadata": {},
   "outputs": [],
   "source": [
    "gray_image.show(denoised, \"OF-GD \" + \"($\\sigma_\\mathrm{kernel}=\" + f\"{OFGD__sigma_kernel}\"  + \", \\sigma_\\mathrm{OF}=\" + f\"{OFGD__sigma_OF}\" + f\", N={OFGD__N_iters}, l={OFGD__l}, w={OFGD__w}$)\")"
   ]
  },
  {
   "cell_type": "code",
   "execution_count": null,
   "metadata": {
    "scrolled": true
   },
   "outputs": [],
   "source": [
    "%%time\n",
    "\n",
    "OFGD__sigma_kernel = 2.5\n",
    "OFGD__N_iters = 1\n",
    "OFGD__l = 1\n",
    "OFGD__w = 11\n",
    "OFGD__sigma_OF = 1.0\n",
    "\n",
    "denoised, _ = image_denoising.OF_gaussian.filter_gray_image(noisy_img, OFGD__sigma_kernel, OFGD__N_iters, OFGD__l, OFGD__w, OFGD__sigma_OF)"
   ]
  },
  {
   "cell_type": "code",
   "execution_count": null,
   "metadata": {},
   "outputs": [],
   "source": [
    "gray_image.show(denoised, \"OF-GD \" + \"($\\sigma_\\mathrm{kernel}=\" + f\"{OFGD__sigma_kernel}\"  + \", \\sigma_\\mathrm{OF}=\" + f\"{OFGD__sigma_OF}\" + f\", N={OFGD__N_iters}, l={OFGD__l}, w={OFGD__w}$)\")"
   ]
  },
  {
   "cell_type": "code",
   "execution_count": null,
   "metadata": {
    "scrolled": true
   },
   "outputs": [],
   "source": [
    "%%time\n",
    "\n",
    "OFGD__sigma_kernel = 2.5\n",
    "OFGD__N_iters = 1\n",
    "OFGD__l = 1\n",
    "OFGD__w = 11\n",
    "OFGD__sigma_OF = 0.5\n",
    "\n",
    "denoised, _ = image_denoising.OF_gaussian.filter_gray_image(noisy_img, OFGD__sigma_kernel, OFGD__N_iters, OFGD__l, OFGD__w, OFGD__sigma_OF)"
   ]
  },
  {
   "cell_type": "code",
   "execution_count": null,
   "metadata": {},
   "outputs": [],
   "source": [
    "gray_image.show(denoised, \"OF-GD \" + \"($\\sigma_\\mathrm{kernel}=\" + f\"{OFGD__sigma_kernel}\"  + \", \\sigma_\\mathrm{OF}=\" + f\"{OFGD__sigma_OF}\" + f\", N={OFGD__N_iters}, l={OFGD__l}, w={OFGD__w}$)\")"
   ]
  },
  {
   "cell_type": "code",
   "execution_count": null,
   "metadata": {
    "scrolled": true
   },
   "outputs": [],
   "source": [
    "%%time\n",
    "\n",
    "OFGD__sigma_kernel = 2.5\n",
    "OFGD__N_iters = 1\n",
    "OFGD__l = 1\n",
    "OFGD__w = 17\n",
    "OFGD__sigma_OF = 1.0\n",
    "\n",
    "denoised, _ = image_denoising.OF_gaussian.filter_gray_image(noisy_img, OFGD__sigma_kernel, OFGD__N_iters, OFGD__l, OFGD__w, OFGD__sigma_OF)"
   ]
  },
  {
   "cell_type": "code",
   "execution_count": null,
   "metadata": {},
   "outputs": [],
   "source": [
    "gray_image.show(denoised, \"OF-GD \" + \"($\\sigma_\\mathrm{kernel}=\" + f\"{OFGD__sigma_kernel}\"  + \", \\sigma_\\mathrm{OF}=\" + f\"{OFGD__sigma_OF}\" + f\", N={OFGD__N_iters}, l={OFGD__l}, w={OFGD__w}$)\")"
   ]
  },
  {
   "cell_type": "code",
   "execution_count": null,
   "metadata": {},
   "outputs": [],
   "source": [
    "%%time\n",
    "\n",
    "OFGD__sigma_kernel = 2.5\n",
    "OFGD__N_iters = 3\n",
    "OFGD__l = 1\n",
    "OFGD__w = 9\n",
    "OFGD__sigma_OF = 2.5\n",
    "\n",
    "denoised, _ = image_denoising.OF_gaussian.filter_gray_image(noisy_img, OFGD__sigma_kernel, OFGD__N_iters, OFGD__l, OFGD__w, OFGD__sigma_OF)"
   ]
  },
  {
   "cell_type": "code",
   "execution_count": null,
   "metadata": {},
   "outputs": [],
   "source": [
    "gray_image.show(denoised, \"OF-GD \" + \"($\\sigma_\\mathrm{kernel}=\" + f\"{OFGD__sigma_kernel}\"  + \", \\sigma_\\mathrm{OF}=\" + f\"{OFGD__sigma_OF}\" + f\", N={OFGD__N_iters}, l={OFGD__l}, w={OFGD__w}$)\")"
   ]
  },
  {
   "cell_type": "code",
   "execution_count": null,
   "metadata": {},
   "outputs": [],
   "source": [
    "%%time\n",
    "\n",
    "OFGD__sigma_kernel = 2.5\n",
    "OFGD__N_iters = 1\n",
    "OFGD__l = 3\n",
    "OFGD__w = 9\n",
    "OFGD__sigma_OF = 2.5\n",
    "\n",
    "denoised, _ = image_denoising.OF_gaussian.filter_gray_image(noisy_img, OFGD__sigma_kernel, OFGD__N_iters, OFGD__l, OFGD__w, OFGD__sigma_OF)"
   ]
  },
  {
   "cell_type": "code",
   "execution_count": null,
   "metadata": {},
   "outputs": [],
   "source": [
    "gray_image.show(denoised, \"denoised\")"
   ]
  },
  {
   "cell_type": "code",
   "execution_count": null,
   "metadata": {},
   "outputs": [],
   "source": [
    "%%time\n",
    "\n",
    "OFGD__sigma_kernel = 2.5\n",
    "OFGD__N_iters = 1\n",
    "OFGD__l = 3\n",
    "OFGD__w = 33\n",
    "OFGD__sigma_OF = 2.5\n",
    "\n",
    "denoised, _ = image_denoising.OF_gaussian.filter_gray_image(noisy_img, OFGD__sigma_kernel, OFGD__N_iters, OFGD__l, OFGD__w, OFGD__sigma_OF)"
   ]
  },
  {
   "cell_type": "code",
   "execution_count": null,
   "metadata": {},
   "outputs": [],
   "source": [
    "gray_image.show(denoised, \"OF-GD \" + \"($\\sigma_\\mathrm{kernel}=\" + f\"{OFGD__sigma_kernel}\"  + \", \\sigma_\\mathrm{OF}=\" + f\"{OFGD__sigma_OF}\" + f\", N={OFGD__N_iters}, l={OFGD__l}, w={OFGD__w}$)\")"
   ]
  },
  {
   "cell_type": "code",
   "execution_count": null,
   "metadata": {},
   "outputs": [],
   "source": [
    "%%time\n",
    "\n",
    "OFGD__sigma_kernel = 2.5\n",
    "OFGD__N_iters = 1\n",
    "OFGD__l = 3\n",
    "OFGD__w = 33\n",
    "OFGD__sigma_OF = 0.5\n",
    "\n",
    "denoised, _ = image_denoising.OF_gaussian.filter_gray_image(noisy_img, OFGD__sigma_kernel, OFGD__N_iters, OFGD__l, OFGD__w, OFGD__sigma_OF)"
   ]
  },
  {
   "cell_type": "code",
   "execution_count": null,
   "metadata": {},
   "outputs": [],
   "source": [
    "gray_image.show(denoised, \"OF-GD \" + \"($\\sigma_\\mathrm{kernel}=\" + f\"{OFGD__sigma_kernel}\"  + \", \\sigma_\\mathrm{OF}=\" + f\"{OFGD__sigma_OF}\" + f\", N={OFGD__N_iters}, l={OFGD__l}, w={OFGD__w}$)\")"
   ]
  },
  {
   "cell_type": "code",
   "execution_count": null,
   "metadata": {},
   "outputs": [],
   "source": [
    "%%time\n",
    "\n",
    "OFGD__sigma_kernel = 2.5\n",
    "OFGD__N_iters = 1\n",
    "OFGD__l = 3\n",
    "OFGD__w = 33\n",
    "OFGD__sigma_OF = 0.25\n",
    "\n",
    "denoised, _ = image_denoising.OF_gaussian.filter_gray_image(noisy_img, OFGD__sigma_kernel, OFGD__N_iters, OFGD__l, OFGD__w, OFGD__sigma_OF)"
   ]
  },
  {
   "cell_type": "code",
   "execution_count": null,
   "metadata": {},
   "outputs": [],
   "source": [
    "gray_image.show(denoised, \"OF-GD \" + \"($\\sigma_\\mathrm{kernel}=\" + f\"{OFGD__sigma_kernel}\"  + \", \\sigma_\\mathrm{OF}=\" + f\"{OFGD__sigma_OF}\" + f\", N={OFGD__N_iters}, l={OFGD__l}, w={OFGD__w}$)\")"
   ]
  },
  {
   "cell_type": "code",
   "execution_count": null,
   "metadata": {},
   "outputs": [],
   "source": [
    "%%time\n",
    "\n",
    "OFGD__sigma_kernel = 2.5\n",
    "OFGD__N_iters = 1\n",
    "OFGD__l = 3\n",
    "OFGD__w = 17\n",
    "OFGD__sigma_OF = 0.25\n",
    "\n",
    "denoised, _ = image_denoising.OF_gaussian.filter_gray_image(noisy_img, OFGD__sigma_kernel, OFGD__N_iters, OFGD__l, OFGD__w, OFGD__sigma_OF)"
   ]
  },
  {
   "cell_type": "code",
   "execution_count": null,
   "metadata": {},
   "outputs": [],
   "source": [
    "gray_image.show(denoised, \"OF-GD \" + \"($\\sigma_\\mathrm{kernel}=\" + f\"{OFGD__sigma_kernel}\"  + \", \\sigma_\\mathrm{OF}=\" + f\"{OFGD__sigma_OF}\" + f\", N={OFGD__N_iters}, l={OFGD__l}, w={OFGD__w}$)\")"
   ]
  },
  {
   "cell_type": "code",
   "execution_count": null,
   "metadata": {},
   "outputs": [],
   "source": [
    "%%time\n",
    "\n",
    "OFGD__sigma_kernel = 0.5\n",
    "OFGD__N_iters = 1\n",
    "OFGD__l = 3\n",
    "OFGD__w = 17\n",
    "OFGD__sigma_OF = 0.25\n",
    "\n",
    "denoised, _ = image_denoising.OF_gaussian.filter_gray_image(noisy_img, OFGD__sigma_kernel, OFGD__N_iters, OFGD__l, OFGD__w, OFGD__sigma_OF)"
   ]
  },
  {
   "cell_type": "code",
   "execution_count": null,
   "metadata": {},
   "outputs": [],
   "source": [
    "gray_image.show(denoised, \"OF-GD \" + \"($\\sigma_\\mathrm{kernel}=\" + f\"{OFGD__sigma_kernel}\"  + \", \\sigma_\\mathrm{OF}=\" + f\"{OFGD__sigma_OF}\" + f\", N={OFGD__N_iters}, l={OFGD__l}, w={OFGD__w}$)\")"
   ]
  },
  {
   "cell_type": "code",
   "execution_count": null,
   "metadata": {},
   "outputs": [],
   "source": [
    "%%time\n",
    "\n",
    "OFGD__sigma_kernel = 0.5\n",
    "OFGD__N_iters = 1\n",
    "OFGD__l = 3\n",
    "OFGD__w = 17\n",
    "OFGD__sigma_OF = 2.5\n",
    "\n",
    "denoised, _ = image_denoising.OF_gaussian.filter_gray_image(noisy_img, OFGD__sigma_kernel, OFGD__N_iters, OFGD__l, OFGD__w, OFGD__sigma_OF)"
   ]
  },
  {
   "cell_type": "code",
   "execution_count": null,
   "metadata": {},
   "outputs": [],
   "source": [
    "gray_image.show(denoised, \"OF-GD \" + \"($\\sigma_\\mathrm{kernel}=\" + f\"{OFGD__sigma_kernel}\"  + \", \\sigma_\\mathrm{OF}=\" + f\"{OFGD__sigma_OF}\" + f\", N={OFGD__N_iters}, l={OFGD__l}, w={OFGD__w}$)\")"
   ]
  },
  {
   "cell_type": "code",
   "execution_count": null,
   "metadata": {},
   "outputs": [],
   "source": [
    "%%time\n",
    "\n",
    "OFGD__sigma_kernel = 0.5\n",
    "OFGD__N_iters = 1\n",
    "OFGD__l = 3\n",
    "OFGD__w = 7\n",
    "OFGD__sigma_OF = 2.5\n",
    "\n",
    "denoised, _ = image_denoising.OF_gaussian.filter_gray_image(noisy_img, OFGD__sigma_kernel, OFGD__N_iters, OFGD__l, OFGD__w, OFGD__sigma_OF)"
   ]
  },
  {
   "cell_type": "code",
   "execution_count": null,
   "metadata": {},
   "outputs": [],
   "source": [
    "gray_image.show(denoised, \"OF-GD \" + \"($\\sigma_\\mathrm{kernel}=\" + f\"{OFGD__sigma_kernel}\"  + \", \\sigma_\\mathrm{OF}=\" + f\"{OFGD__sigma_OF}\" + f\", N={OFGD__N_iters}, l={OFGD__l}, w={OFGD__w}$)\")"
   ]
  },
  {
   "cell_type": "code",
   "execution_count": null,
   "metadata": {},
   "outputs": [],
   "source": [
    "%%time\n",
    "\n",
    "OFGD__sigma_kernel = 3.5\n",
    "OFGD__N_iters = 1\n",
    "OFGD__l = 3\n",
    "OFGD__w = 15\n",
    "OFGD__sigma_OF = 2.5\n",
    "\n",
    "denoised, _ = image_denoising.OF_gaussian.filter_gray_image(noisy_img, OFGD__sigma_kernel, OFGD__N_iters, OFGD__l, OFGD__w, OFGD__sigma_OF)"
   ]
  },
  {
   "cell_type": "code",
   "execution_count": null,
   "metadata": {},
   "outputs": [],
   "source": [
    "gray_image.show(denoised, \"OF-GD \" + \"($\\sigma_\\mathrm{kernel}=\" + f\"{OFGD__sigma_kernel}\"  + \", \\sigma_\\mathrm{OF}=\" + f\"{OFGD__sigma_OF}\" + f\", N={OFGD__N_iters}, l={OFGD__l}, w={OFGD__w}$)\")"
   ]
  },
  {
   "cell_type": "markdown",
   "metadata": {},
   "source": [
    "## OF-driven Random"
   ]
  },
  {
   "cell_type": "code",
   "execution_count": null,
   "metadata": {},
   "outputs": [],
   "source": [
    "import image_denoising\n",
    "from image_denoising import OF_random\n",
    "image_denoising.OF_random.logger.setLevel(logging.WARNING)\n",
    "logging.getLevelName(image_denoising.OF_random.logger.getEffectiveLevel())"
   ]
  },
  {
   "cell_type": "code",
   "execution_count": null,
   "metadata": {},
   "outputs": [],
   "source": [
    "%%time\n",
    "\n",
    "OFRD__N_iters = 50\n",
    "OFRD__sigma_random = 1.0\n",
    "OFRD__l = 3\n",
    "OFRD__w = 11\n",
    "OFRD__sigma_OF = 0.25\n",
    "\n",
    "denoised, _ = image_denoising.OF_random.filter(\n",
    "    image_denoising.OF_random.warp_B_to_A,\n",
    "    noisy_img,\n",
    "    N_iters=OFRD__N_iters,\n",
    "    sigma_RD=OFRD__sigma_random,\n",
    "    l=OFRD__l,\n",
    "    w=OFRD__w,\n",
    "    sigma_OF=OFRD__sigma_OF)"
   ]
  },
  {
   "cell_type": "code",
   "execution_count": null,
   "metadata": {},
   "outputs": [],
   "source": [
    "gray_image.show(denoised, \"OF-RD \" + \"($\\sigma_\\mathrm{OF}=\" + f\"{OFRD__sigma_OF}, \" + \"\\sigma_\\mathrm{random}=\" + f\"{OFRD__sigma_random}, \" + f\"N={OFRD__N_iters}, l={OFRD__l}, w={OFRD__w}$)\")"
   ]
  },
  {
   "cell_type": "code",
   "execution_count": null,
   "metadata": {},
   "outputs": [],
   "source": [
    "%%time\n",
    "\n",
    "OFRD__N_iters = 50\n",
    "OFRD__sigma_random = 1.0\n",
    "OFRD__l = 3\n",
    "OFRD__w = 11\n",
    "OFRD__sigma_OF = 1.25\n",
    "\n",
    "denoised, _ = image_denoising.OF_random.filter(\n",
    "    image_denoising.OF_random.warp_B_to_A,\n",
    "    noisy_img,\n",
    "    N_iters=OFRD__N_iters,\n",
    "    sigma_RD=OFRD__sigma_random,\n",
    "    l=OFRD__l,\n",
    "    w=OFRD__w,\n",
    "    sigma_OF=OFRD__sigma_OF)"
   ]
  },
  {
   "cell_type": "code",
   "execution_count": null,
   "metadata": {},
   "outputs": [],
   "source": [
    "gray_image.show(denoised, \"OF-RD \" + \"($\\sigma_\\mathrm{OF}=\" + f\"{OFRD__sigma_OF}, \" + \"\\sigma_\\mathrm{random}=\" + f\"{OFRD__sigma_random}, \" + f\"N={OFRD__N_iters}, l={OFRD__l}, w={OFRD__w}$)\")"
   ]
  },
  {
   "cell_type": "code",
   "execution_count": null,
   "metadata": {},
   "outputs": [],
   "source": [
    "%%time\n",
    "\n",
    "OFRD__N_iters = 50\n",
    "OFRD__sigma_random = 0.5\n",
    "OFRD__l = 3\n",
    "OFRD__w = 11\n",
    "OFRD__sigma_OF = 0.25\n",
    "\n",
    "denoised, _ = image_denoising.OF_random.filter(\n",
    "    image_denoising.OF_random.warp_B_to_A,\n",
    "    noisy_img,\n",
    "    N_iters=OFRD__N_iters,\n",
    "    sigma_RD=OFRD__sigma_random,\n",
    "    l=OFRD__l,\n",
    "    w=OFRD__w,\n",
    "    sigma_OF=OFRD__sigma_OF)"
   ]
  },
  {
   "cell_type": "code",
   "execution_count": null,
   "metadata": {},
   "outputs": [],
   "source": [
    "gray_image.show(denoised, \"OF-RD \" + \"($\\sigma_\\mathrm{OF}=\" + f\"{OFRD__sigma_OF}, \" + \"\\sigma_\\mathrm{random}=\" + f\"{OFRD__sigma_random}, \" + f\"N={OFRD__N_iters}, l={OFRD__l}, w={OFRD__w}$)\")"
   ]
  },
  {
   "cell_type": "code",
   "execution_count": null,
   "metadata": {},
   "outputs": [],
   "source": [
    "%%time\n",
    "\n",
    "OFRD__N_iters = 100\n",
    "OFRD__sigma_random = 0.5\n",
    "OFRD__l = 3\n",
    "OFRD__w = 11\n",
    "OFRD__sigma_OF = 0.25\n",
    "\n",
    "denoised, _ = image_denoising.OF_random.filter(\n",
    "    image_denoising.OF_random.warp_B_to_A,\n",
    "    noisy_img,\n",
    "    N_iters=OFRD__N_iters,\n",
    "    sigma_RD=OFRD__sigma_random,\n",
    "    l=OFRD__l,\n",
    "    w=OFRD__w,\n",
    "    sigma_OF=OFRD__sigma_OF)"
   ]
  },
  {
   "cell_type": "code",
   "execution_count": null,
   "metadata": {},
   "outputs": [],
   "source": [
    "gray_image.show(denoised, \"OF-RD \" + \"($\\sigma_\\mathrm{OF}=\" + f\"{OFRD__sigma_OF}, \" + \"\\sigma_\\mathrm{random}=\" + f\"{OFRD__sigma_random}, \" + f\"N={OFRD__N_iters}, l={OFRD__l}, w={OFRD__w}$)\")"
   ]
  },
  {
   "cell_type": "code",
   "execution_count": null,
   "metadata": {},
   "outputs": [],
   "source": [
    "%%time\n",
    "\n",
    "OFRD__N_iters = 50\n",
    "OFRD__sigma_random = 1.0\n",
    "OFRD__l = 3\n",
    "OFRD__w = 3\n",
    "OFRD__sigma_OF = 0.25\n",
    "\n",
    "denoised, _ = image_denoising.OF_random.filter(\n",
    "    image_denoising.OF_random.warp_B_to_A,\n",
    "    noisy_img,\n",
    "    N_iters=OFRD__N_iters,\n",
    "    sigma_RD=OFRD__sigma_random,\n",
    "    l=OFRD__l,\n",
    "    w=OFRD__w,\n",
    "    sigma_OF=OFRD__sigma_OF)"
   ]
  },
  {
   "cell_type": "code",
   "execution_count": null,
   "metadata": {},
   "outputs": [],
   "source": [
    "gray_image.show(denoised, \"OF-RD \" + \"($\\sigma_\\mathrm{OF}=\" + f\"{OFRD__sigma_OF}, \" + \"\\sigma_\\mathrm{random}=\" + f\"{OFRD__sigma_random}, \" + f\"N={OFRD__N_iters}, l={OFRD__l}, w={OFRD__w}$)\")"
   ]
  },
  {
   "cell_type": "code",
   "execution_count": null,
   "metadata": {},
   "outputs": [],
   "source": [
    "%%time\n",
    "\n",
    "OFRD__N_iters = 50\n",
    "OFRD__sigma_random = 0.5\n",
    "OFRD__l = 1\n",
    "OFRD__w = 3\n",
    "OFRD__sigma_OF = 0.25\n",
    "\n",
    "denoised, _ = image_denoising.OF_random.filter(\n",
    "    image_denoising.OF_random.warp_B_to_A,\n",
    "    noisy_img,\n",
    "    N_iters=OFRD__N_iters,\n",
    "    sigma_RD=OFRD__sigma_random,\n",
    "    l=OFRD__l,\n",
    "    w=OFRD__w,\n",
    "    sigma_OF=OFRD__sigma_OF)"
   ]
  },
  {
   "cell_type": "code",
   "execution_count": null,
   "metadata": {},
   "outputs": [],
   "source": [
    "gray_image.show(denoised, \"OF-RD \" + \"($\\sigma_\\mathrm{OF}=\" + f\"{OFRD__sigma_OF}, \" + \"\\sigma_\\mathrm{random}=\" + f\"{OFRD__sigma_random}, \" + f\"N={OFRD__N_iters}, l={OFRD__l}, w={OFRD__w}$)\")"
   ]
  },
  {
   "cell_type": "code",
   "execution_count": null,
   "metadata": {},
   "outputs": [],
   "source": [
    "%%time\n",
    "\n",
    "OFRD__N_iters = 50\n",
    "OFRD__sigma_random = 0.5\n",
    "OFRD__l = 1\n",
    "OFRD__w = 5\n",
    "OFRD__sigma_OF = 0.25\n",
    "\n",
    "denoised, _ = image_denoising.OF_random.filter(\n",
    "    image_denoising.OF_random.warp_B_to_A,\n",
    "    noisy_img,\n",
    "    N_iters=OFRD__N_iters,\n",
    "    sigma_RD=OFRD__sigma_random,\n",
    "    l=OFRD__l,\n",
    "    w=OFRD__w,\n",
    "    sigma_OF=OFRD__sigma_OF)"
   ]
  },
  {
   "cell_type": "code",
   "execution_count": null,
   "metadata": {},
   "outputs": [],
   "source": [
    "gray_image.show(denoised, \"OF-RD \" + \"($\\sigma_\\mathrm{OF}=\" + f\"{OFRD__sigma_OF}, \" + \"\\sigma_\\mathrm{random}=\" + f\"{OFRD__sigma_random}, \" + f\"N={OFRD__N_iters}, l={OFRD__l}, w={OFRD__w}$)\")"
   ]
  },
  {
   "cell_type": "code",
   "execution_count": null,
   "metadata": {},
   "outputs": [],
   "source": [
    "%%time\n",
    "\n",
    "OFRD__N_iters = 50\n",
    "OFRD__sigma_random = 0.5\n",
    "OFRD__l = 1\n",
    "OFRD__w = 17\n",
    "OFRD__sigma_OF = 0.25\n",
    "\n",
    "denoised, _ = image_denoising.OF_random.filter(\n",
    "    image_denoising.OF_random.warp_B_to_A,\n",
    "    noisy_img,\n",
    "    N_iters=OFRD__N_iters,\n",
    "    sigma_RD=OFRD__sigma_random,\n",
    "    l=OFRD__l,\n",
    "    w=OFRD__w,\n",
    "    sigma_OF=OFRD__sigma_OF)"
   ]
  },
  {
   "cell_type": "code",
   "execution_count": null,
   "metadata": {},
   "outputs": [],
   "source": [
    "gray_image.show(denoised, \"OF-RD \" + \"($\\sigma_\\mathrm{OF}=\" + f\"{OFRD__sigma_OF}, \" + \"\\sigma_\\mathrm{random}=\" + f\"{OFRD__sigma_random}, \" + f\"N={OFRD__N_iters}, l={OFRD__l}, w={OFRD__w}$)\")"
   ]
  },
  {
   "cell_type": "code",
   "execution_count": null,
   "metadata": {},
   "outputs": [],
   "source": [
    "%%time\n",
    "\n",
    "OFRD__N_iters = 100\n",
    "OFRD__sigma_random = 0.5\n",
    "OFRD__l = 1\n",
    "OFRD__w = 17\n",
    "OFRD__sigma_OF = 0.25\n",
    "\n",
    "denoised, _ = image_denoising.OF_random.filter(\n",
    "    image_denoising.OF_random.warp_B_to_A,\n",
    "    noisy_img,\n",
    "    N_iters=OFRD__N_iters,\n",
    "    sigma_RD=OFRD__sigma_random,\n",
    "    l=OFRD__l,\n",
    "    w=OFRD__w,\n",
    "    sigma_OF=OFRD__sigma_OF)"
   ]
  },
  {
   "cell_type": "code",
   "execution_count": null,
   "metadata": {},
   "outputs": [],
   "source": [
    "gray_image.show(denoised, \"OF-RD \" + \"($\\sigma_\\mathrm{OF}=\" + f\"{OFRD__sigma_OF}, \" + \"\\sigma_\\mathrm{random}=\" + f\"{OFRD__sigma_random}, \" + f\"N={OFRD__N_iters}, l={OFRD__l}, w={OFRD__w}$)\")"
   ]
  },
  {
   "cell_type": "code",
   "execution_count": null,
   "metadata": {},
   "outputs": [],
   "source": [
    "%%time\n",
    "\n",
    "OFRD__N_iters = 100\n",
    "OFRD__sigma_random = 0.5\n",
    "OFRD__l = 1\n",
    "OFRD__w = 17\n",
    "OFRD__sigma_OF = 0.75\n",
    "\n",
    "denoised, _ = image_denoising.OF_random.filter(\n",
    "    image_denoising.OF_random.warp_B_to_A,\n",
    "    noisy_img,\n",
    "    N_iters=OFRD__N_iters,\n",
    "    sigma_RD=OFRD__sigma_random,\n",
    "    l=OFRD__l,\n",
    "    w=OFRD__w,\n",
    "    sigma_OF=OFRD__sigma_OF)"
   ]
  },
  {
   "cell_type": "code",
   "execution_count": null,
   "metadata": {},
   "outputs": [],
   "source": [
    "gray_image.show(denoised, \"OF-RD \" + \"($\\sigma_\\mathrm{OF}=\" + f\"{OFRD__sigma_OF}, \" + \"\\sigma_\\mathrm{random}=\" + f\"{OFRD__sigma_random}, \" + f\"N={OFRD__N_iters}, l={OFRD__l}, w={OFRD__w}$)\")"
   ]
  },
  {
   "cell_type": "code",
   "execution_count": null,
   "metadata": {},
   "outputs": [],
   "source": [
    "%%time\n",
    "\n",
    "OFRD__N_iters = 100\n",
    "OFRD__sigma_random = 0.5\n",
    "OFRD__l = 1\n",
    "OFRD__w = 17\n",
    "OFRD__sigma_OF = 0.75\n",
    "\n",
    "denoised, _ = image_denoising.OF_random.filter(\n",
    "    image_denoising.OF_random.warp_B_to_A,\n",
    "    noisy_img,\n",
    "    N_iters=OFRD__N_iters,\n",
    "    sigma_RD=OFRD__sigma_random,\n",
    "    l=OFRD__l,\n",
    "    w=OFRD__w,\n",
    "    sigma_OF=OFRD__sigma_OF)"
   ]
  },
  {
   "cell_type": "code",
   "execution_count": null,
   "metadata": {},
   "outputs": [],
   "source": [
    "gray_image.show(denoised, \"OF-RD \" + \"($\\sigma_\\mathrm{OF}=\" + f\"{OFRD__sigma_OF}, \" + \"\\sigma_\\mathrm{random}=\" + f\"{OFRD__sigma_random}, \" + f\"N={OFRD__N_iters}, l={OFRD__l}, w={OFRD__w}$)\")"
   ]
  },
  {
   "cell_type": "code",
   "execution_count": null,
   "metadata": {},
   "outputs": [],
   "source": [
    "%%time\n",
    "\n",
    "OFRD__N_iters = 100\n",
    "OFRD__sigma_random = 0.5\n",
    "OFRD__l = 1\n",
    "OFRD__w = 7\n",
    "OFRD__sigma_OF = 0.75\n",
    "\n",
    "denoised, _ = image_denoising.OF_random.filter(\n",
    "    image_denoising.OF_random.warp_B_to_A,\n",
    "    noisy_img,\n",
    "    N_iters=OFRD__N_iters,\n",
    "    sigma_RD=OFRD__sigma_random,\n",
    "    l=OFRD__l,\n",
    "    w=OFRD__w,\n",
    "    sigma_OF=OFRD__sigma_OF)"
   ]
  },
  {
   "cell_type": "code",
   "execution_count": null,
   "metadata": {},
   "outputs": [],
   "source": [
    "gray_image.show(denoised, \"OF-RD \" + \"($\\sigma_\\mathrm{OF}=\" + f\"{OFRD__sigma_OF}, \" + \"\\sigma_\\mathrm{random}=\" + f\"{OFRD__sigma_random}, \" + f\"N={OFRD__N_iters}, l={OFRD__l}, w={OFRD__w}$)\")"
   ]
  },
  {
   "cell_type": "code",
   "execution_count": null,
   "metadata": {},
   "outputs": [],
   "source": [
    "input()"
   ]
  },
  {
   "cell_type": "markdown",
   "metadata": {},
   "source": [
    "## Old stuff"
   ]
  },
  {
   "cell_type": "code",
   "execution_count": null,
   "metadata": {
    "scrolled": true
   },
   "outputs": [],
   "source": [
    "denoised_img = _2D_OF_denoising.filter(noisy_img, kernel, l=1, w=33)"
   ]
  },
  {
   "cell_type": "code",
   "execution_count": null,
   "metadata": {
    "id": "2Z2NYLUDK6L-"
   },
   "outputs": [],
   "source": [
    "gray_image.show(denoised_img, \"denoised\")"
   ]
  },
  {
   "cell_type": "code",
   "execution_count": null,
   "metadata": {
    "id": "CbtykqDNaqL1"
   },
   "outputs": [],
   "source": [
    "print(f\"time: {time.process_time()} seconds\")"
   ]
  },
  {
   "cell_type": "code",
   "execution_count": null,
   "metadata": {},
   "outputs": [],
   "source": [
    "!pip install mrcfile\n",
    "import mrcfile"
   ]
  },
  {
   "cell_type": "code",
   "execution_count": null,
   "metadata": {},
   "outputs": [],
   "source": [
    "input_format = \"rec\"\n",
    "tomogram_name = \"/home/vruiz/Descargas/TS01-wbp\"\n",
    "tomogram_MRC = mrcfile.open(f'{tomogram_name}.{input_format}')\n",
    "print(f\"tomogram_name={tomogram_name} type={tomogram_MRC.data.dtype} shape={tomogram_MRC.data.shape}\")\n",
    "tomogram = tomogram_MRC.data"
   ]
  },
  {
   "cell_type": "code",
   "execution_count": null,
   "metadata": {},
   "outputs": [],
   "source": [
    "denoised_tomogram = _2D_OF_denoising.filter_over_Y(tomogram, kernel, l=2, w=3)"
   ]
  },
  {
   "cell_type": "code",
   "execution_count": null,
   "metadata": {},
   "outputs": [],
   "source": [
    "import matplotlib.pyplot as plt\n",
    "from ipywidgets import *\n",
    "import cv2"
   ]
  },
  {
   "cell_type": "code",
   "execution_count": null,
   "metadata": {},
   "outputs": [],
   "source": [
    "def g(z=0):\n",
    "  #cv2_imshow(cv2.normalize(tomogram[z, :, :][0:200,0:200].astype(np.uint8), None, 0, 255, cv2.NORM_MINMAX))\n",
    "  #cv2_imshow(cv2.normalize(tomogram[z, :, :].astype(np.uint8), None, 0, 255, cv2.NORM_MINMAX))\n",
    "  plt.imshow(cv2.normalize(tomogram[z, :, :], None, 0, 255, cv2.NORM_MINMAX))\n",
    "  plt.imshow(cv2.normalize(denoised_tomogram[z, :, :], None, 0, 255, cv2.NORM_MINMAX))\n",
    "\n",
    "interactive_plot = interactive(g, z=100)\n",
    "interactive_plot"
   ]
  },
  {
   "cell_type": "code",
   "execution_count": null,
   "metadata": {},
   "outputs": [],
   "source": [
    "fake_tomogram = np.stack([np.roll(noisy_img,0) for i in range(64)])"
   ]
  },
  {
   "cell_type": "code",
   "execution_count": null,
   "metadata": {},
   "outputs": [],
   "source": [
    "def g(z=0):\n",
    "  plt.imshow(cv2.normalize(fake_tomogram[:, z, :], None, 0, 255, cv2.NORM_MINMAX))\n",
    "\n",
    "interactive_plot = interactive(g, z=10)\n",
    "interactive_plot"
   ]
  },
  {
   "cell_type": "code",
   "execution_count": null,
   "metadata": {},
   "outputs": [],
   "source": [
    "fake_denoised_tomogram = _2D_OF_denoising.filter_over_X(fake_tomogram, kernel, l=2, w=3)"
   ]
  },
  {
   "cell_type": "code",
   "execution_count": null,
   "metadata": {},
   "outputs": [],
   "source": [
    "try:\n",
    "    import optical_flow as motion\n",
    "    import display\n",
    "    import prediction\n",
    "except:\n",
    "    !pip install \"motion_estimation @ git+https://github.com/vicente-gonzalez-ruiz/motion_estimation\"\n",
    "    from motion_estimation import optical_flow as motion\n",
    "    from motion_estimation import display\n",
    "    from motion_estimation import prediction"
   ]
  },
  {
   "cell_type": "code",
   "execution_count": null,
   "metadata": {},
   "outputs": [],
   "source": [
    "initial_MVs = np.zeros((fake_tomogram[:, 0, :].shape[0], fake_tomogram[:, 0, :].shape[1], 2), dtype=np.float32)\n",
    "MVs = motion.Farneback_ME(predicted=fake_tomogram[:, 10, :], reference=fake_tomogram[:, 15, :], initial_MVs=initial_MVs)"
   ]
  },
  {
   "cell_type": "code",
   "execution_count": null,
   "metadata": {},
   "outputs": [],
   "source": [
    "#display.show_vectors(MVs[::1, ::1])\n",
    "display.show_vectors(MVs)"
   ]
  },
  {
   "cell_type": "code",
   "execution_count": null,
   "metadata": {},
   "outputs": [],
   "source": [
    "np.max(MVs)"
   ]
  },
  {
   "cell_type": "code",
   "execution_count": null,
   "metadata": {},
   "outputs": [],
   "source": [
    "MVs[32,...]"
   ]
  },
  {
   "cell_type": "code",
   "execution_count": null,
   "metadata": {},
   "outputs": [],
   "source": [
    "initial_MVs = np.zeros((tomogram[:, 0, :].shape[0], tomogram[:, 0, :].shape[1], 2), dtype=np.float32)\n",
    "MVs = motion.Farneback_ME(predicted=tomogram[:, 1, :], reference=tomogram[:, 2, :], initial_MVs=initial_MVs)"
   ]
  },
  {
   "cell_type": "code",
   "execution_count": null,
   "metadata": {},
   "outputs": [],
   "source": [
    "np.max(MVs)"
   ]
  },
  {
   "cell_type": "code",
   "execution_count": null,
   "metadata": {},
   "outputs": [],
   "source": [
    "tomogram.dtype"
   ]
  },
  {
   "cell_type": "code",
   "execution_count": null,
   "metadata": {},
   "outputs": [],
   "source": [
    "fake_tomogram.dtype"
   ]
  },
  {
   "cell_type": "code",
   "execution_count": null,
   "metadata": {},
   "outputs": [],
   "source": [
    "RGB_image.show(display.colorize(MVs))"
   ]
  },
  {
   "cell_type": "code",
   "execution_count": null,
   "metadata": {},
   "outputs": [],
   "source": []
  }
 ],
 "metadata": {
  "colab": {
   "collapsed_sections": [],
   "name": "gaussian_denoising.ipynb",
   "provenance": []
  },
  "kernelspec": {
   "display_name": "Python 3 (ipykernel)",
   "language": "python",
   "name": "python3"
  },
  "language_info": {
   "codemirror_mode": {
    "name": "ipython",
    "version": 3
   },
   "file_extension": ".py",
   "mimetype": "text/x-python",
   "name": "python",
   "nbconvert_exporter": "python",
   "pygments_lexer": "ipython3",
   "version": "3.10.12"
  }
 },
 "nbformat": 4,
 "nbformat_minor": 4
}
