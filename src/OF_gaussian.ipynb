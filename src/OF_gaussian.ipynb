{
 "cells": [
  {
   "cell_type": "markdown",
   "metadata": {},
   "source": [
    "[![Binder](https://mybinder.org/badge_logo.svg)](https://nbviewer.org/github/vicente-gonzalez-ruiz/motion_estimation/blob/main/src/motion_estimation/full_search_dense_ME.ipynb)"
   ]
  },
  {
   "cell_type": "markdown",
   "metadata": {},
   "source": [
    "[![Colab](https://badgen.net/badge/Launch/on%20Google%20Colab/blue?icon=notebook)](https://colab.research.google.com/github/vicente-gonzalez-ruiz/motion_estimation/blob/main/src/motion_estimation/full_search_dense_ME.ipynb)"
   ]
  },
  {
   "cell_type": "markdown",
   "metadata": {},
   "source": [
    "# Optical flow image denoising using the optical flow\n"
   ]
  },
  {
   "cell_type": "code",
   "execution_count": 1,
   "metadata": {},
   "outputs": [],
   "source": [
    "try:\n",
    "    import google.colab\n",
    "    IN_COLAB = True\n",
    "except:\n",
    "    IN_COLAB = False\n",
    "\n",
    "if IN_COLAB:\n",
    "    !apt update\n",
    "    !apt install imagemagick\n",
    "    !apt install cm-super\n",
    "    !apt install dvipng\n",
    "    !apt install bc\n",
    "    !apt install texlive-latex-extra\n",
    "    !apt install texlive-fonts-recommended"
   ]
  },
  {
   "cell_type": "code",
   "execution_count": 2,
   "metadata": {},
   "outputs": [
    {
     "name": "stdout",
     "output_type": "stream",
     "text": [
      "/shared/PEs/opencv/bin/python\r\n"
     ]
    }
   ],
   "source": [
    "!which python"
   ]
  },
  {
   "cell_type": "code",
   "execution_count": 3,
   "metadata": {},
   "outputs": [
    {
     "name": "stdout",
     "output_type": "stream",
     "text": [
      "Requirement already satisfied: pip in /shared/PEs/opencv/lib/python3.10/site-packages (22.0.2)\n",
      "Collecting pip\n",
      "  Downloading pip-23.3.1-py3-none-any.whl (2.1 MB)\n",
      "\u001b[2K     \u001b[38;2;114;156;31m━━━━━━━━━━━━━━━━━━━━━━━━━━━━━━━━━━━━━━━━\u001b[0m \u001b[32m2.1/2.1 MB\u001b[0m \u001b[31m5.6 MB/s\u001b[0m eta \u001b[36m0:00:00\u001b[0mm eta \u001b[36m0:00:01\u001b[0m[36m0:00:01\u001b[0m\n",
      "\u001b[?25hInstalling collected packages: pip\n",
      "  Attempting uninstall: pip\n",
      "    Found existing installation: pip 22.0.2\n",
      "    Uninstalling pip-22.0.2:\n",
      "      Successfully uninstalled pip-22.0.2\n",
      "Successfully installed pip-23.3.1\n"
     ]
    }
   ],
   "source": [
    "!pip install --upgrade pip"
   ]
  },
  {
   "cell_type": "code",
   "execution_count": 4,
   "metadata": {},
   "outputs": [],
   "source": [
    "import numpy as np"
   ]
  },
  {
   "cell_type": "markdown",
   "metadata": {},
   "source": [
    "try:\n",
    "    from scipy import ndimage\n",
    "except:\n",
    "    !pip install scipy\n",
    "    from scipy import ndimage"
   ]
  },
  {
   "cell_type": "code",
   "execution_count": 5,
   "metadata": {},
   "outputs": [],
   "source": [
    "import matplotlib\n",
    "import matplotlib.pyplot as plt\n",
    "import matplotlib.axes as ax\n",
    "import pylab\n",
    "\n",
    "plt.rcParams[\"text.usetex\"] = True\n",
    "plt.rcParams[\"text.latex.preamble\"] = r\"\\usepackage{amsmath}\" #for \\text command\n",
    "   \n",
    "%matplotlib inline"
   ]
  },
  {
   "cell_type": "code",
   "execution_count": 6,
   "metadata": {},
   "outputs": [],
   "source": [
    "try:\n",
    "    from color_transforms import YCoCg as YUV\n",
    "except:\n",
    "    !pip install \"color_transforms @ git+https://github.com/vicente-gonzalez-ruiz/color_transforms\"\n",
    "    from color_transforms import YCoCg as YUV"
   ]
  },
  {
   "cell_type": "code",
   "execution_count": 7,
   "metadata": {},
   "outputs": [
    {
     "name": "stdout",
     "output_type": "stream",
     "text": [
      "Collecting image_IO@ git+https://github.com/vicente-gonzalez-ruiz/image_IO\n",
      "  Cloning https://github.com/vicente-gonzalez-ruiz/image_IO to /tmp/pip-install-3xfs0zal/image-io_e15216953ec24607b8724e366d56610d\n",
      "  Running command git clone --filter=blob:none --quiet https://github.com/vicente-gonzalez-ruiz/image_IO /tmp/pip-install-3xfs0zal/image-io_e15216953ec24607b8724e366d56610d\n",
      "  Resolved https://github.com/vicente-gonzalez-ruiz/image_IO to commit 5dff57f270436b2f3de403e9ae1eeb2ee7be5712\n",
      "  Installing build dependencies ... \u001b[?25ldone\n",
      "\u001b[?25h  Getting requirements to build wheel ... \u001b[?25ldone\n",
      "\u001b[?25h  Installing backend dependencies ... \u001b[?25ldone\n",
      "\u001b[?25h  Preparing metadata (pyproject.toml) ... \u001b[?25ldone\n",
      "\u001b[?25hRequirement already satisfied: numpy in /shared/PEs/opencv/lib/python3.10/site-packages (from image_IO@ git+https://github.com/vicente-gonzalez-ruiz/image_IO) (1.24.2)\n",
      "Requirement already satisfied: opencv-python in /shared/PEs/opencv/lib/python3.10/site-packages (from image_IO@ git+https://github.com/vicente-gonzalez-ruiz/image_IO) (4.7.0.72)\n",
      "Requirement already satisfied: matplotlib in /shared/PEs/opencv/lib/python3.10/site-packages (from image_IO@ git+https://github.com/vicente-gonzalez-ruiz/image_IO) (3.7.2)\n",
      "Collecting colored (from image_IO@ git+https://github.com/vicente-gonzalez-ruiz/image_IO)\n",
      "  Downloading colored-2.2.3-py3-none-any.whl.metadata (3.6 kB)\n",
      "Requirement already satisfied: contourpy>=1.0.1 in /shared/PEs/opencv/lib/python3.10/site-packages (from matplotlib->image_IO@ git+https://github.com/vicente-gonzalez-ruiz/image_IO) (1.1.0)\n",
      "Requirement already satisfied: cycler>=0.10 in /shared/PEs/opencv/lib/python3.10/site-packages (from matplotlib->image_IO@ git+https://github.com/vicente-gonzalez-ruiz/image_IO) (0.11.0)\n",
      "Requirement already satisfied: fonttools>=4.22.0 in /shared/PEs/opencv/lib/python3.10/site-packages (from matplotlib->image_IO@ git+https://github.com/vicente-gonzalez-ruiz/image_IO) (4.42.1)\n",
      "Requirement already satisfied: kiwisolver>=1.0.1 in /shared/PEs/opencv/lib/python3.10/site-packages (from matplotlib->image_IO@ git+https://github.com/vicente-gonzalez-ruiz/image_IO) (1.4.5)\n",
      "Requirement already satisfied: packaging>=20.0 in /shared/PEs/opencv/lib/python3.10/site-packages (from matplotlib->image_IO@ git+https://github.com/vicente-gonzalez-ruiz/image_IO) (23.0)\n",
      "Requirement already satisfied: pillow>=6.2.0 in /shared/PEs/opencv/lib/python3.10/site-packages (from matplotlib->image_IO@ git+https://github.com/vicente-gonzalez-ruiz/image_IO) (9.4.0)\n",
      "Requirement already satisfied: pyparsing<3.1,>=2.3.1 in /shared/PEs/opencv/lib/python3.10/site-packages (from matplotlib->image_IO@ git+https://github.com/vicente-gonzalez-ruiz/image_IO) (3.0.9)\n",
      "Requirement already satisfied: python-dateutil>=2.7 in /shared/PEs/opencv/lib/python3.10/site-packages (from matplotlib->image_IO@ git+https://github.com/vicente-gonzalez-ruiz/image_IO) (2.8.2)\n",
      "Requirement already satisfied: six>=1.5 in /shared/PEs/opencv/lib/python3.10/site-packages (from python-dateutil>=2.7->matplotlib->image_IO@ git+https://github.com/vicente-gonzalez-ruiz/image_IO) (1.16.0)\n",
      "Downloading colored-2.2.3-py3-none-any.whl (16 kB)\n",
      "Building wheels for collected packages: image_IO\n",
      "  Building wheel for image_IO (pyproject.toml) ... \u001b[?25ldone\n",
      "\u001b[?25h  Created wheel for image_IO: filename=image_IO-0.0.1-py3-none-any.whl size=4699 sha256=99f27dc8b543b91370ff542b62dcfe35f67ecb174bea8ebda51788b97fe98f7a\n",
      "  Stored in directory: /tmp/pip-ephem-wheel-cache-pe3n2add/wheels/20/90/b9/f15d31b7a36249b9fb7b8ab1ad46eb55e45dbdb02ab17bdb7a\n",
      "Successfully built image_IO\n",
      "Installing collected packages: colored, image_IO\n",
      "Successfully installed colored-2.2.3 image_IO-0.0.1\n"
     ]
    }
   ],
   "source": [
    "try:\n",
    "    from image_IO import image_1 as gray_image\n",
    "    from image_IO import image_3 as RGB_image\n",
    "except:\n",
    "    !pip install \"image_IO @ git+https://github.com/vicente-gonzalez-ruiz/image_IO\"\n",
    "    from image_IO import image_1 as gray_image\n",
    "    from image_IO import image_3 as RGB_image"
   ]
  },
  {
   "cell_type": "code",
   "execution_count": 8,
   "metadata": {},
   "outputs": [],
   "source": [
    "try:\n",
    "    from information_theory import information\n",
    "    #from information_theory import distortion\n",
    "except:\n",
    "    !pip install \"information_theory @ git+https://github.com/vicente-gonzalez-ruiz/information_theory\"\n",
    "    from information_theory import information\n",
    "    #from information_theory import distortion"
   ]
  },
  {
   "cell_type": "code",
   "execution_count": 9,
   "metadata": {},
   "outputs": [
    {
     "ename": "AttributeError",
     "evalue": "module 'motion_estimation.farneback' has no attribute 'Estimator_in_CPU'",
     "output_type": "error",
     "traceback": [
      "\u001b[0;31m---------------------------------------------------------------------------\u001b[0m",
      "\u001b[0;31mAttributeError\u001b[0m                            Traceback (most recent call last)",
      "Cell \u001b[0;32mIn[9], line 1\u001b[0m\n\u001b[0;32m----> 1\u001b[0m \u001b[38;5;28;01mimport\u001b[39;00m \u001b[38;5;21;01mimage_denoising\u001b[39;00m\n",
      "File \u001b[0;32m/shared/repos/microscopy-processing/image_denoising/src/image_denoising/__init__.py:11\u001b[0m\n\u001b[1;32m      1\u001b[0m \u001b[38;5;66;03m#import logging\u001b[39;00m\n\u001b[1;32m      2\u001b[0m \u001b[38;5;66;03m#logger = logging.getLogger(__name__)\u001b[39;00m\n\u001b[1;32m      3\u001b[0m \u001b[38;5;66;03m#logging.basicConfig(format=\"[%(filename)s:%(lineno)s %(funcName)s()] %(message)s\")\u001b[39;00m\n\u001b[0;32m   (...)\u001b[0m\n\u001b[1;32m      7\u001b[0m \u001b[38;5;66;03m#logger.setLevel(logging.INFO)\u001b[39;00m\n\u001b[1;32m      8\u001b[0m \u001b[38;5;66;03m#logger.setLevel(logging.DEBUG)\u001b[39;00m\n\u001b[1;32m     10\u001b[0m \u001b[38;5;28;01mfrom\u001b[39;00m \u001b[38;5;21;01mimage_denoising\u001b[39;00m \u001b[38;5;28;01mimport\u001b[39;00m gaussian\n\u001b[0;32m---> 11\u001b[0m \u001b[38;5;28;01mfrom\u001b[39;00m \u001b[38;5;21;01mimage_denoising\u001b[39;00m \u001b[38;5;28;01mimport\u001b[39;00m OF_gaussian\n\u001b[1;32m     12\u001b[0m \u001b[38;5;28;01mfrom\u001b[39;00m \u001b[38;5;21;01mimage_denoising\u001b[39;00m \u001b[38;5;28;01mimport\u001b[39;00m OF_random\n",
      "File \u001b[0;32m/shared/repos/microscopy-processing/image_denoising/src/image_denoising/OF_gaussian.py:7\u001b[0m\n\u001b[1;32m      5\u001b[0m \u001b[38;5;28;01mimport\u001b[39;00m \u001b[38;5;21;01mmath\u001b[39;00m\n\u001b[1;32m      6\u001b[0m \u001b[38;5;28;01mfrom\u001b[39;00m \u001b[38;5;21;01m.\u001b[39;00m \u001b[38;5;28;01mimport\u001b[39;00m kernels\n\u001b[0;32m----> 7\u001b[0m \u001b[38;5;28;01mfrom\u001b[39;00m \u001b[38;5;21;01m.\u001b[39;00m \u001b[38;5;28;01mimport\u001b[39;00m flow_estimation\n\u001b[1;32m      8\u001b[0m \u001b[38;5;66;03m#pip install \"color_transforms @ git+https://github.com/vicente-gonzalez-ruiz/color_transforms\"\u001b[39;00m\n\u001b[1;32m      9\u001b[0m \u001b[38;5;28;01mfrom\u001b[39;00m \u001b[38;5;21;01mcolor_transforms\u001b[39;00m \u001b[38;5;28;01mimport\u001b[39;00m YCoCg \u001b[38;5;28;01mas\u001b[39;00m YUV\n",
      "File \u001b[0;32m/shared/repos/microscopy-processing/image_denoising/src/image_denoising/flow_estimation.py:23\u001b[0m\n\u001b[1;32m     15\u001b[0m \u001b[38;5;66;03m#logger.setLevel(logging.INFO)\u001b[39;00m\n\u001b[1;32m     16\u001b[0m \u001b[38;5;66;03m#logger.setLevel(logging.DEBUG)\u001b[39;00m\n\u001b[1;32m     17\u001b[0m \n\u001b[1;32m     18\u001b[0m \u001b[38;5;66;03m#image_denoising.logger.info(f\"Logging level: {image_denoising.logger.getEffectiveLevel()}\")\u001b[39;00m\n\u001b[1;32m     19\u001b[0m \n\u001b[1;32m     20\u001b[0m \u001b[38;5;66;03m#pip install \"color_transforms @ git+https://github.com/vicente-gonzalez-ruiz/motion_estimation\"\u001b[39;00m\n\u001b[1;32m     21\u001b[0m \u001b[38;5;28;01mimport\u001b[39;00m \u001b[38;5;21;01mmotion_estimation\u001b[39;00m\n\u001b[0;32m---> 23\u001b[0m \u001b[38;5;28;01mclass\u001b[39;00m \u001b[38;5;21;01mFarneback_Flow_Estimator\u001b[39;00m(\u001b[43mmotion_estimation\u001b[49m\u001b[38;5;241;43m.\u001b[39;49m\u001b[43mfarneback\u001b[49m\u001b[38;5;241;43m.\u001b[39;49m\u001b[43mEstimator_in_CPU\u001b[49m):\n\u001b[1;32m     25\u001b[0m     \u001b[38;5;28;01mdef\u001b[39;00m \u001b[38;5;21m__init__\u001b[39m(\u001b[38;5;28mself\u001b[39m,\n\u001b[1;32m     26\u001b[0m                  levels\u001b[38;5;241m=\u001b[39m\u001b[38;5;241m3\u001b[39m, \u001b[38;5;66;03m# Pyramid slope. Multiply by 2^levels the searching area if the OFE\u001b[39;00m\n\u001b[1;32m     27\u001b[0m                  window_side\u001b[38;5;241m=\u001b[39m\u001b[38;5;241m15\u001b[39m, \u001b[38;5;66;03m# Applicability window side\u001b[39;00m\n\u001b[0;32m   (...)\u001b[0m\n\u001b[1;32m     30\u001b[0m                  poly_sigma\u001b[38;5;241m=\u001b[39m\u001b[38;5;241m1.5\u001b[39m, \u001b[38;5;66;03m# Standard deviation of the Gaussian basis used in the polynomial expansion\u001b[39;00m\n\u001b[1;32m     31\u001b[0m                  flags\u001b[38;5;241m=\u001b[39m\u001b[38;5;241m0\u001b[39m):\u001b[38;5;66;03m#cv2.OPTFLOW_FARNEBACK_GAUSSIAN):\u001b[39;00m\n\u001b[1;32m     33\u001b[0m         \u001b[38;5;28msuper\u001b[39m()\u001b[38;5;241m.\u001b[39m\u001b[38;5;21m__init__\u001b[39m(levels\u001b[38;5;241m=\u001b[39mlevels,\n\u001b[1;32m     34\u001b[0m                          pyr_scale\u001b[38;5;241m=\u001b[39m\u001b[38;5;241m0.5\u001b[39m,\n\u001b[1;32m     35\u001b[0m                          win_side\u001b[38;5;241m=\u001b[39mwindow_side,\n\u001b[0;32m   (...)\u001b[0m\n\u001b[1;32m     38\u001b[0m                          poly_sigma\u001b[38;5;241m=\u001b[39mpoly_sigma,\n\u001b[1;32m     39\u001b[0m                          flags\u001b[38;5;241m=\u001b[39mflags)\n",
      "\u001b[0;31mAttributeError\u001b[0m: module 'motion_estimation.farneback' has no attribute 'Estimator_in_CPU'"
     ]
    }
   ],
   "source": [
    "import image_denoising"
   ]
  },
  {
   "cell_type": "code",
   "execution_count": null,
   "metadata": {},
   "outputs": [],
   "source": [
    "%%bash\n",
    "if [ -d \"$HOME/repos\" ]; then\n",
    "    echo \"\\\"$HOME/repos\\\" exists\"\n",
    "else\n",
    "    mkdir ~/repos\n",
    "    echo Created $HOME/repos\n",
    "fi"
   ]
  },
  {
   "cell_type": "code",
   "execution_count": null,
   "metadata": {},
   "outputs": [],
   "source": [
    "import cv2\n",
    "import random"
   ]
  },
  {
   "cell_type": "code",
   "execution_count": null,
   "metadata": {},
   "outputs": [],
   "source": [
    "import urllib\n",
    "try:\n",
    "    from skimage import io as skimage_io\n",
    "except:\n",
    "    !pip install scikit-image\n",
    "    from skimage import io as skimage_io\n",
    "\n",
    "fn = \"http://www.hpca.ual.es/~vruiz/images/lena.png\"\n",
    "req = urllib.request.Request(fn, method='HEAD')\n",
    "f = urllib.request.urlopen(req)\n",
    "img = skimage_io.imread(fn)\n",
    "RGB_image.show(img,\"\")"
   ]
  },
  {
   "cell_type": "code",
   "execution_count": null,
   "metadata": {},
   "outputs": [],
   "source": [
    "row, col, ch = img.shape\n",
    "mean = 0\n",
    "var = 1000\n",
    "sigma = var**0.5\n",
    "noise = np.random.normal(mean, sigma, (row, col, ch))\n",
    "print(np.max(noise))\n",
    "noisy_image = np.clip(a=img.astype(np.float32) + noise, a_min=0, a_max=255).astype(np.uint8)"
   ]
  },
  {
   "cell_type": "code",
   "execution_count": null,
   "metadata": {},
   "outputs": [],
   "source": [
    "RGB_image.show(noisy_image,\"\")"
   ]
  },
  {
   "cell_type": "code",
   "execution_count": null,
   "metadata": {},
   "outputs": [],
   "source": [
    "denoised_image = cv2.fastNlMeansDenoisingColored(noisy_image, None, 11, 6, 7, 21)"
   ]
  },
  {
   "cell_type": "code",
   "execution_count": null,
   "metadata": {
    "scrolled": true
   },
   "outputs": [],
   "source": [
    "fig, axs = plt.subplots(3, 1, figsize=(8, 24))\n",
    "axs[0].imshow(noisy_image.astype(np.uint8))\n",
    "axs[0].set_title(\"noisy\")\n",
    "axs[1].imshow(denoised_image.astype(np.uint8))\n",
    "axs[1].set_title(\"denoised\")\n",
    "axs[2].imshow(img.astype(np.uint8))\n",
    "axs[2].set_title(\"GT\")\n",
    "fig.tight_layout()\n",
    "plt.show()"
   ]
  },
  {
   "cell_type": "code",
   "execution_count": null,
   "metadata": {},
   "outputs": [],
   "source": [
    "denoised_image, _ = image_denoising.OF_gaussian.filter_RGB_image(\n",
    "    noisy_image,\n",
    "    sigma_kernel=2.5,\n",
    "    N_iters=1,\n",
    "    l=3,\n",
    "    w=9,\n",
    "    sigma_OF=2.5,\n",
    "    GT=img\n",
    ")"
   ]
  },
  {
   "cell_type": "code",
   "execution_count": null,
   "metadata": {},
   "outputs": [],
   "source": [
    "np.amax(_)"
   ]
  },
  {
   "cell_type": "code",
   "execution_count": null,
   "metadata": {},
   "outputs": [],
   "source": [
    "np.argmax(_)"
   ]
  },
  {
   "cell_type": "code",
   "execution_count": null,
   "metadata": {},
   "outputs": [],
   "source": [
    "fig, axs = plt.subplots(3, 1, figsize=(8, 24))\n",
    "axs[0].imshow(noisy_image.astype(np.uint8))\n",
    "axs[0].set_title(\"noisy\")\n",
    "axs[1].imshow(denoised_image.astype(np.uint8))\n",
    "axs[1].set_title(\"denoised\")\n",
    "axs[2].imshow(img.astype(np.uint8))\n",
    "axs[2].set_title(\"GT\")\n",
    "fig.tight_layout()\n",
    "plt.show()"
   ]
  },
  {
   "cell_type": "code",
   "execution_count": null,
   "metadata": {},
   "outputs": [],
   "source": [
    "image_denoiser = image_denoising.OF_random.Filter_Color_Image(levels=5, window_side=15, poly_sigma=0.5)"
   ]
  },
  {
   "cell_type": "code",
   "execution_count": null,
   "metadata": {},
   "outputs": [],
   "source": [
    "RD_iters = 50\n",
    "RD_sigma = 1.0\n",
    "RD_mean = 0.0"
   ]
  },
  {
   "cell_type": "code",
   "execution_count": null,
   "metadata": {},
   "outputs": [],
   "source": [
    "denoised_image, _ = image_denoiser.filter(\n",
    "    noisy_image,\n",
    "    RD_iters,\n",
    "    RD_sigma,\n",
    "    GT=img\n",
    ")"
   ]
  },
  {
   "cell_type": "code",
   "execution_count": null,
   "metadata": {},
   "outputs": [],
   "source": [
    "np.amax(_)"
   ]
  },
  {
   "cell_type": "code",
   "execution_count": null,
   "metadata": {},
   "outputs": [],
   "source": [
    "np.argmax(_)"
   ]
  },
  {
   "cell_type": "code",
   "execution_count": null,
   "metadata": {
    "scrolled": true
   },
   "outputs": [],
   "source": [
    "fig, axs = plt.subplots(3, 1, figsize=(8, 24))\n",
    "axs[0].imshow(noisy_image.astype(np.uint8))\n",
    "axs[0].set_title(\"noisy\")\n",
    "axs[1].imshow(denoised_image.astype(np.uint8))\n",
    "axs[1].set_title(\"denoised\")\n",
    "axs[2].imshow(img.astype(np.uint8))\n",
    "axs[2].set_title(\"GT\")\n",
    "fig.tight_layout()\n",
    "plt.show()"
   ]
  },
  {
   "cell_type": "code",
   "execution_count": null,
   "metadata": {},
   "outputs": [],
   "source": [
    "image_denoiser = image_denoising.OF_random.Filter_Color_Image(levels=5, window_side=5, poly_sigma=0.5)"
   ]
  },
  {
   "cell_type": "code",
   "execution_count": null,
   "metadata": {},
   "outputs": [],
   "source": [
    "RD_iters = 50\n",
    "RD_sigma = 1.0\n",
    "RD_mean = 0.0"
   ]
  },
  {
   "cell_type": "code",
   "execution_count": null,
   "metadata": {},
   "outputs": [],
   "source": [
    "denoised_image, _ = image_denoiser.filter(\n",
    "    noisy_image,\n",
    "    RD_iters,\n",
    "    RD_sigma,\n",
    "    GT=img\n",
    ")"
   ]
  },
  {
   "cell_type": "code",
   "execution_count": null,
   "metadata": {},
   "outputs": [],
   "source": [
    "np.amax(_)"
   ]
  },
  {
   "cell_type": "code",
   "execution_count": null,
   "metadata": {},
   "outputs": [],
   "source": [
    "np.argmax(_)"
   ]
  },
  {
   "cell_type": "code",
   "execution_count": null,
   "metadata": {
    "scrolled": true
   },
   "outputs": [],
   "source": [
    "fig, axs = plt.subplots(3, 1, figsize=(8, 24))\n",
    "axs[0].imshow(noisy_image.astype(np.uint8))\n",
    "axs[0].set_title(\"noisy\")\n",
    "axs[1].imshow(denoised_image.astype(np.uint8))\n",
    "axs[1].set_title(\"denoised\")\n",
    "axs[2].imshow(img.astype(np.uint8))\n",
    "axs[2].set_title(\"GT\")\n",
    "fig.tight_layout()\n",
    "plt.show()"
   ]
  },
  {
   "cell_type": "code",
   "execution_count": null,
   "metadata": {},
   "outputs": [],
   "source": [
    "image_denoiser = image_denoising.OF_random.Filter_Color_Image(levels=5, window_side=7, poly_sigma=0.3)"
   ]
  },
  {
   "cell_type": "code",
   "execution_count": null,
   "metadata": {},
   "outputs": [],
   "source": [
    "RD_iters = 50\n",
    "RD_sigma = 1.0\n",
    "RD_mean = 0.0"
   ]
  },
  {
   "cell_type": "code",
   "execution_count": null,
   "metadata": {},
   "outputs": [],
   "source": [
    "denoised_image, _ = image_denoiser.filter(\n",
    "    noisy_image,\n",
    "    RD_iters,\n",
    "    RD_sigma,\n",
    "    GT=img\n",
    ")"
   ]
  },
  {
   "cell_type": "code",
   "execution_count": null,
   "metadata": {},
   "outputs": [],
   "source": [
    "np.amax(_)"
   ]
  },
  {
   "cell_type": "code",
   "execution_count": null,
   "metadata": {},
   "outputs": [],
   "source": [
    "np.argmax(_)"
   ]
  },
  {
   "cell_type": "code",
   "execution_count": null,
   "metadata": {},
   "outputs": [],
   "source": [
    "fig, axs = plt.subplots(3, 1, figsize=(8, 24))\n",
    "axs[0].imshow(noisy_image.astype(np.uint8))\n",
    "axs[0].set_title(\"noisy\")\n",
    "axs[1].imshow(denoised_image.astype(np.uint8))\n",
    "axs[1].set_title(\"denoised\")\n",
    "axs[2].imshow(img.astype(np.uint8))\n",
    "axs[2].set_title(\"GT\")\n",
    "fig.tight_layout()\n",
    "plt.show()"
   ]
  },
  {
   "cell_type": "code",
   "execution_count": null,
   "metadata": {},
   "outputs": [],
   "source": [
    "image_denoiser = image_denoising.OF_random.Filter_Color_Image(levels=5, window_side=7, poly_sigma=1.5)"
   ]
  },
  {
   "cell_type": "code",
   "execution_count": null,
   "metadata": {},
   "outputs": [],
   "source": [
    "RD_iters = 50\n",
    "RD_sigma = 1.0\n",
    "RD_mean = 0.0"
   ]
  },
  {
   "cell_type": "code",
   "execution_count": null,
   "metadata": {},
   "outputs": [],
   "source": [
    "denoised_image, _ = image_denoiser.filter(\n",
    "    noisy_image,\n",
    "    RD_iters,\n",
    "    RD_sigma,\n",
    "    GT=img\n",
    ")"
   ]
  },
  {
   "cell_type": "code",
   "execution_count": null,
   "metadata": {},
   "outputs": [],
   "source": [
    "np.amax(_)"
   ]
  },
  {
   "cell_type": "code",
   "execution_count": null,
   "metadata": {},
   "outputs": [],
   "source": [
    "np.argmax(_)"
   ]
  },
  {
   "cell_type": "code",
   "execution_count": null,
   "metadata": {},
   "outputs": [],
   "source": [
    "fig, axs = plt.subplots(3, 1, figsize=(8, 24))\n",
    "axs[0].imshow(noisy_image.astype(np.uint8))\n",
    "axs[0].set_title(\"noisy\")\n",
    "axs[1].imshow(denoised_image.astype(np.uint8))\n",
    "axs[1].set_title(\"denoised\")\n",
    "axs[2].imshow(img.astype(np.uint8))\n",
    "axs[2].set_title(\"GT\")\n",
    "fig.tight_layout()\n",
    "plt.show()"
   ]
  },
  {
   "cell_type": "code",
   "execution_count": null,
   "metadata": {},
   "outputs": [],
   "source": []
  },
  {
   "cell_type": "code",
   "execution_count": null,
   "metadata": {},
   "outputs": [],
   "source": [
    "def randomize(image, max_distance_x=1, max_distance_y=1):\n",
    "    height, width, _ = image.shape\n",
    "    x_coords, y_coords = np.meshgrid(range(width), range(height)) # Create a grid of coordinates\n",
    "    flattened_x_coords = x_coords.flatten()\n",
    "    flattened_y_coords = y_coords.flatten()\n",
    "    displacements_x = np.random.randint(-max_distance_x, max_distance_x + 1, flattened_x_coords.shape)\n",
    "    displacements_y = np.random.randint(-max_distance_y, max_distance_y + 1, flattened_y_coords.shape)\n",
    "    randomized_x_coords = flattened_x_coords + displacements_x\n",
    "    randomized_y_coords = flattened_y_coords + displacements_y\n",
    "    randomized_x_coords = np.mod(randomized_x_coords, width) # Use periodic extension to handle border pixels\n",
    "    randomized_y_coords = np.mod(randomized_y_coords, height)\n",
    "    randomized_image = np.empty_like(image)\n",
    "    randomized_image[...] = image\n",
    "    randomized_image[randomized_y_coords,\n",
    "                     randomized_x_coords, :] = image[flattened_y_coords,\n",
    "                                                     flattened_x_coords, :]\n",
    "    return randomized_image\n",
    "\n",
    "def get_flow_to_project_A_to_B(A, B, l=3, w=15, prev_flow=None, sigma=1.5):\n",
    "    print(A.shape, B.shape, A.dtype, B.dtype)\n",
    "    flow = cv2.calcOpticalFlowFarneback(prev=B, next=A, flow=prev_flow,\n",
    "                                        pyr_scale=0.5, levels=l, winsize=w,\n",
    "                                        iterations=3, poly_n=5, poly_sigma=sigma,\n",
    "                                        flags=0)\n",
    "    #flow[...] = 0.0\n",
    "    print(np.average(np.abs(flow)), l, w, sigma)\n",
    "    return flow\n",
    "\n",
    "def project(image, flow):\n",
    "    height, width = flow.shape[:2]\n",
    "    map_x = np.tile(np.arange(width), (height, 1))\n",
    "    map_y = np.swapaxes(np.tile(np.arange(height), (width, 1)), 0, 1)\n",
    "    map_xy = (flow + np.dstack((map_x, map_y))).astype('float32')\n",
    "    warped_image = cv2.remap(image, map_xy, None,\n",
    "                             #interpolation=cv2.INTER_LANCZOS4, #INTER_LINEAR,\n",
    "                             interpolation=cv2.INTER_LINEAR,\n",
    "                             borderMode=cv2.BORDER_REPLICATE)\n",
    "    return warped_image\n",
    "\n",
    "def project_A_to_B(A, B, l=3, w=15, prev_flow=None, sigma=1.5):\n",
    "    A_luma = YUV.from_RGB(A.astype(np.int16))[..., 0]\n",
    "    B_luma = YUV.from_RGB(B.astype(np.int16))[..., 0]\n",
    "    flow = get_flow_to_project_A_to_B(A_luma, B_luma, l, w, prev_flow, sigma)\n",
    "    return project(A, flow)"
   ]
  },
  {
   "cell_type": "code",
   "execution_count": null,
   "metadata": {},
   "outputs": [],
   "source": [
    "'''1. denoised_image = 0\n",
    "2. for i in range(iters):\n",
    "    1. randomized_noisy_image = randomize(noisy_image)\n",
    "    2. randomized_and_compensated_noisy_image = project_A_to_B(A=randomized_noisy_image, B=noisy_image)\n",
    "    3. average_image += (noisy_image + randomized_and_compensated_noisy_image)/2\n",
    "    4. denoised_image += average_image\n",
    "3. denoised_image /= iters\n",
    "'''\n",
    "'''\n",
    "iters = 20\n",
    "denoised_image = np.empty_like(noisy_image, dtype=np.float32)\n",
    "denoised_image[...] = noisy_image\n",
    "for i in range(iters):\n",
    "    randomized_noisy_image = randomize_image(denoised_image)\n",
    "    OF_compensated_randomized_noisy_image = project_A_to_B(A=randomized_noisy_image, B=denoised_image,\n",
    "                                                          l=2, w=33, sigma=3.5)\n",
    "    denoised_image = (denoised_image + OF_compensated_randomized_noisy_image)/2\n",
    "    plt.imshow(denoised_image.astype(np.uint8))\n",
    "    plt.show()\n",
    "'''\n",
    "acc_image = np.zeros_like(noisy_image, dtype=np.float32)\n",
    "acc_image[...] = img\n",
    "iters = 100\n",
    "for i in range(iters):\n",
    "    denoised_image = acc_image/(i+1)\n",
    "    #randomized_noisy_image = randomize(noisy_image, max_distance_x=50, max_distance_y=50).astype(np.float32)\n",
    "    randomized_noisy_image = randomize(img, max_distance_x=10, max_distance_y=10).astype(np.float32)\n",
    "    #randomized_and_compensated_noisy_image = project_A_to_B(A=randomized_noisy_image, B=noisy_image, l=5, w=15, sigma=1.5)\n",
    "    randomized_and_compensated_noisy_image = project_A_to_B(B=randomized_noisy_image, A=denoised_image, l=5, w=15, sigma=1.5)\n",
    "    #randomized_and_compensated_noisy_image = randomized_noisy_image\n",
    "    #plt.imshow(randomized_noisy_image.astype(np.uint8))\n",
    "    #plt.show()\n",
    "    acc_image += randomized_and_compensated_noisy_image\n",
    "denoised_image = acc_image/(iters)\n",
    "print(np.max(denoised_image))"
   ]
  },
  {
   "cell_type": "code",
   "execution_count": null,
   "metadata": {},
   "outputs": [],
   "source": [
    "fig, axs = plt.subplots(3, 1, figsize=(8, 24))\n",
    "axs[0].imshow(noisy_image.astype(np.uint8))\n",
    "axs[0].set_title(\"noisy\")\n",
    "axs[1].imshow(denoised_image.astype(np.uint8))\n",
    "axs[1].set_title(\"denoised\")\n",
    "axs[2].imshow(img.astype(np.uint8))\n",
    "axs[2].set_title(\"GT\")\n",
    "fig.tight_layout()\n",
    "plt.show()"
   ]
  },
  {
   "cell_type": "code",
   "execution_count": null,
   "metadata": {},
   "outputs": [],
   "source": [
    "RGB_image.show(denoised_image.astype(np.uint8),\"\")"
   ]
  },
  {
   "cell_type": "code",
   "execution_count": null,
   "metadata": {},
   "outputs": [],
   "source": [
    "acc_image = np.zeros_like(noisy_image, dtype=np.float32)\n",
    "acc_image[...] = noisy_image\n",
    "iters = 50\n",
    "for i in range(iters):\n",
    "    denoised_image = acc_image/(i+1)\n",
    "    #randomized_noisy_image = randomize(noisy_image, max_distance_x=50, max_distance_y=50).astype(np.float32)\n",
    "    randomized_noisy_image = randomize(noisy_image, max_distance_x=9, max_distance_y=9).astype(np.float32)\n",
    "    #randomized_and_compensated_noisy_image = project_A_to_B(A=randomized_noisy_image, B=noisy_image, l=5, w=15, sigma=1.5)\n",
    "    randomized_and_compensated_noisy_image = project_A_to_B(B=randomized_noisy_image, A=denoised_image, l=3, w=2, sigma=0.3)\n",
    "    #randomized_and_compensated_noisy_image = randomized_noisy_image\n",
    "    #plt.imshow(randomized_noisy_image.astype(np.uint8))\n",
    "    #plt.show()\n",
    "    acc_image += randomized_and_compensated_noisy_image\n",
    "denoised_image = acc_image/(iters + 1)"
   ]
  },
  {
   "cell_type": "code",
   "execution_count": null,
   "metadata": {},
   "outputs": [],
   "source": [
    "RGB_image.show(denoised_image.astype(np.uint8),\"\")"
   ]
  },
  {
   "cell_type": "code",
   "execution_count": null,
   "metadata": {},
   "outputs": [],
   "source": [
    "input()"
   ]
  },
  {
   "cell_type": "code",
   "execution_count": null,
   "metadata": {},
   "outputs": [],
   "source": [
    "acc_image = np.zeros_like(img, dtype=np.float32)\n",
    "acc_image[...] = img#noisy_image\n",
    "iters = 50\n",
    "for i in range(iters):\n",
    "    denoised_image = acc_image/(i+1)\n",
    "    #randomized_noisy_image = randomize(noisy_image, max_distance_x=50, max_distance_y=50).astype(np.float32)\n",
    "    randomized_noisy_image = randomize(img, max_distance_x=19, max_distance_y=19).astype(np.float32)\n",
    "    #randomized_and_compensated_noisy_image = project_A_to_B(A=randomized_noisy_image, B=noisy_image, l=5, w=15, sigma=1.5)\n",
    "    randomized_and_compensated_noisy_image = project_A_to_B(B=randomized_noisy_image, A=denoised_image, l=3, w=2, sigma=0.3)\n",
    "    #randomized_and_compensated_noisy_image = randomized_noisy_image\n",
    "    #plt.imshow(randomized_noisy_image.astype(np.uint8))\n",
    "    #plt.show()\n",
    "    acc_image += randomized_and_compensated_noisy_image\n",
    "denoised_image = acc_image/(iters + 1)"
   ]
  },
  {
   "cell_type": "code",
   "execution_count": null,
   "metadata": {},
   "outputs": [],
   "source": [
    "RGB_image.show(denoised_image.astype(np.uint8),\"\")"
   ]
  },
  {
   "cell_type": "code",
   "execution_count": null,
   "metadata": {},
   "outputs": [],
   "source": [
    "def randomize(image, max_distance_y=9, max_distance_x=9):\n",
    "    height, width, _ = image.shape\n",
    "    x_coords, y_coords = np.meshgrid(range(width), range(height)) # Create a grid of coordinates\n",
    "    flattened_x_coords = x_coords.flatten()\n",
    "    flattened_y_coords = y_coords.flatten()\n",
    "    displacements_x = np.random.randint(-max_distance_x, max_distance_x + 1, flattened_x_coords.shape)\n",
    "    displacements_y = np.random.randint(-max_distance_y, max_distance_y + 1, flattened_y_coords.shape)\n",
    "    randomized_x_coords = flattened_x_coords + displacements_x\n",
    "    randomized_y_coords = flattened_y_coords + displacements_y\n",
    "    randomized_x_coords = np.mod(randomized_x_coords, width) # Use periodic extension to handle border pixels\n",
    "    randomized_y_coords = np.mod(randomized_y_coords, height)\n",
    "    randomized_image = np.empty_like(image)\n",
    "    randomized_image[...] = image\n",
    "    randomized_image[randomized_y_coords,\n",
    "                     randomized_x_coords, :] = image[flattened_y_coords,\n",
    "                                                     flattened_x_coords, :]\n",
    "    return randomized_image\n",
    "\n",
    "def get_flow_to_project_A_to_B(A, B, l=3, w=15, prev_flow=None, sigma=1.5):\n",
    "    flow = cv2.calcOpticalFlowFarneback(prev=B, next=A, flow=prev_flow,\n",
    "                                        pyr_scale=0.5, levels=l, winsize=w,\n",
    "                                        iterations=3, poly_n=5, poly_sigma=sigma,\n",
    "                                        flags=0)\n",
    "    #flow[...] = 0.0\n",
    "    print(np.average(np.abs(flow)), l, w, sigma, end=' ')\n",
    "    return flow\n",
    "\n",
    "def project(image, flow):\n",
    "    height, width = flow.shape[:2]\n",
    "    map_x = np.tile(np.arange(width), (height, 1))\n",
    "    map_y = np.swapaxes(np.tile(np.arange(height), (width, 1)), 0, 1)\n",
    "    map_xy = (flow + np.dstack((map_x, map_y))).astype('float32')\n",
    "    warped_image = cv2.remap(image, map_xy, None,\n",
    "                             #interpolation=cv2.INTER_LANCZOS4, #INTER_LINEAR,\n",
    "                             interpolation=cv2.INTER_LINEAR,\n",
    "                             borderMode=cv2.BORDER_REPLICATE)\n",
    "    return warped_image\n",
    "\n",
    "def warp_A_to_B(A, B, l=3, w=15, prev_flow=None, sigma=1.5):\n",
    "    A_luma = YUV.from_RGB(A.astype(np.int16))[..., 0]\n",
    "    B_luma = YUV.from_RGB(B.astype(np.int16))[..., 0]\n",
    "    flow = get_flow_to_project_A_to_B(A_luma, B_luma, l, w, prev_flow, sigma)\n",
    "    return project(A, flow)\n",
    "\n",
    "def denoise(noisy_image, iters=50, max_distance_y=9, max_distance_x=9, l=3, w=2, sigma=0.3):\n",
    "    acc_image = np.zeros_like(noisy_image, dtype=np.float32)\n",
    "    acc_image[...] = noisy_image\n",
    "    for i in range(iters):\n",
    "        print(i, end=' ')\n",
    "        denoised_image = acc_image/(i+1)\n",
    "        randomized_noisy_image = randomize(noisy_image, max_distance_y=9, max_distance_x=9).astype(np.float32)\n",
    "        randomized_and_compensated_noisy_image = warp_A_to_B(B=randomized_noisy_image, A=denoised_image, l=3, w=2, sigma=0.3)\n",
    "        #randomized_and_compensated_noisy_image = randomized_noisy_image\n",
    "        #plt.imshow(randomized_noisy_image.astype(np.uint8))\n",
    "        #plt.show()\n",
    "        acc_image += randomized_and_compensated_noisy_image\n",
    "    denoised_image = acc_image/(iters + 1)\n",
    "    print()\n",
    "    return denoised_image"
   ]
  },
  {
   "cell_type": "code",
   "execution_count": null,
   "metadata": {},
   "outputs": [],
   "source": [
    "RGB_image.show(\n",
    "    denoise(\n",
    "        img,\n",
    "        iters=50,\n",
    "        max_distance_y=19, max_distance_x=19,\n",
    "        l=3, w=2, sigma=0.3).astype(np.uint8),\"\")"
   ]
  },
  {
   "cell_type": "code",
   "execution_count": null,
   "metadata": {},
   "outputs": [],
   "source": [
    "def randomize(image, max_distance_y=9, max_distance_x=9):\n",
    "    print(\"randomize:\", max_distance_y, max_distance_x)\n",
    "    height, width, _ = image.shape\n",
    "    x_coords, y_coords = np.meshgrid(range(width), range(height)) # Create a grid of coordinates\n",
    "    flattened_x_coords = x_coords.flatten()\n",
    "    flattened_y_coords = y_coords.flatten()\n",
    "    displacements_x = np.random.randint(-max_distance_x, max_distance_x + 1, flattened_x_coords.shape)\n",
    "    displacements_y = np.random.randint(-max_distance_y, max_distance_y + 1, flattened_y_coords.shape)\n",
    "    randomized_x_coords = flattened_x_coords + displacements_x\n",
    "    randomized_y_coords = flattened_y_coords + displacements_y\n",
    "    randomized_x_coords = np.mod(randomized_x_coords, width) # Use periodic extension to handle border pixels\n",
    "    randomized_y_coords = np.mod(randomized_y_coords, height)\n",
    "    randomized_image = np.empty_like(image)\n",
    "    randomized_image[...] = image\n",
    "    randomized_image[randomized_y_coords,\n",
    "                     randomized_x_coords, :] = image[flattened_y_coords,\n",
    "                                                     flattened_x_coords, :]\n",
    "    return randomized_image\n",
    "\n",
    "def get_flow_to_project_A_to_B(A, B, l=3, w=15, prev_flow=None, sigma=1.5):\n",
    "    flow = cv2.calcOpticalFlowFarneback(prev=A, next=B, flow=prev_flow,\n",
    "                                        pyr_scale=0.5, levels=l, winsize=w,\n",
    "                                        iterations=3, poly_n=5, poly_sigma=sigma,\n",
    "                                        flags=0 #cv2.OPTFLOW_FARNEBACK_GAUSSIAN\n",
    "                                       )\n",
    "    #flow[...] = 0.0\n",
    "    print(np.average(np.abs(flow)), l, w, sigma, end=' ')\n",
    "    return flow\n",
    "\n",
    "def project(image, flow):\n",
    "    height, width = flow.shape[:2]\n",
    "    map_x = np.tile(np.arange(width), (height, 1))\n",
    "    map_y = np.swapaxes(np.tile(np.arange(height), (width, 1)), 0, 1)\n",
    "    map_xy = (flow + np.dstack((map_x, map_y))).astype('float32')\n",
    "    warped_image = cv2.remap(image, map_xy, None,\n",
    "                             #interpolation=cv2.INTER_LANCZOS4, #INTER_LINEAR,\n",
    "                             interpolation=cv2.INTER_LINEAR,\n",
    "                             borderMode=cv2.BORDER_REPLICATE)\n",
    "    return warped_image\n",
    "\n",
    "def warp_B_to_A(A, B, l=3, w=15, prev_flow=None, sigma=1.5):\n",
    "    A_luma = YUV.from_RGB(A.astype(np.int16))[..., 0]\n",
    "    B_luma = YUV.from_RGB(B.astype(np.int16))[..., 0]\n",
    "    flow = get_flow_to_project_A_to_B(A_luma, B_luma, l, w, prev_flow, sigma)\n",
    "    return project(B, flow)\n",
    "\n",
    "def denoise(noisy_image, iters=50, max_distance_y=9, max_distance_x=9, l=3, w=2, sigma=0.3):\n",
    "    print(iters, max_distance_y, max_distance_x, l, w, sigma)\n",
    "    acc_image = np.zeros_like(noisy_image, dtype=np.float32)\n",
    "    acc_image[...] = noisy_image\n",
    "    for i in range(iters):\n",
    "        print(i, end=' ')\n",
    "        denoised_image = acc_image/(i+1)\n",
    "        randomized_noisy_image = randomize(noisy_image, max_distance_y, max_distance_x).astype(np.float32)\n",
    "        randomized_and_compensated_noisy_image = warp_B_to_A(A=randomized_noisy_image, B=denoised_image, l=l, w=w, sigma=sigma)\n",
    "        #randomized_and_compensated_noisy_image = randomized_noisy_image\n",
    "        plt.imshow(randomized_noisy_image.astype(np.uint8))\n",
    "        plt.show()\n",
    "        acc_image += randomized_and_compensated_noisy_image\n",
    "    denoised_image = acc_image/(iters + 1)\n",
    "    print()\n",
    "    return denoised_image"
   ]
  },
  {
   "cell_type": "code",
   "execution_count": null,
   "metadata": {},
   "outputs": [],
   "source": [
    "RGB_image.show(\n",
    "    denoise(\n",
    "        img,\n",
    "        iters=10,\n",
    "        max_distance_y=10, max_distance_x=10,\n",
    "        l=5, w=9, sigma=0.3).astype(np.uint8),\"\")"
   ]
  },
  {
   "cell_type": "code",
   "execution_count": null,
   "metadata": {},
   "outputs": [],
   "source": [
    "def randomize(image, max_distance_y=9, max_distance_x=9):\n",
    "    print(\"randomize:\", max_distance_y, max_distance_x)\n",
    "    height, width = image.shape[:2]\n",
    "    x_coords, y_coords = np.meshgrid(range(width), range(height)) # Create a grid of coordinates\n",
    "    flattened_x_coords = x_coords.flatten()\n",
    "    flattened_y_coords = y_coords.flatten()\n",
    "    displacements_x = np.random.randint(-max_distance_x, max_distance_x + 1, flattened_x_coords.shape)\n",
    "    displacements_y = np.random.randint(-max_distance_y, max_distance_y + 1, flattened_y_coords.shape)\n",
    "    randomized_x_coords = flattened_x_coords + displacements_x\n",
    "    randomized_y_coords = flattened_y_coords + displacements_y\n",
    "    randomized_x_coords = np.mod(randomized_x_coords, width) # Use periodic extension to handle border pixels\n",
    "    randomized_y_coords = np.mod(randomized_y_coords, height)\n",
    "    randomized_image = np.empty_like(image)\n",
    "    randomized_image[...] = image\n",
    "    randomized_image[randomized_y_coords,\n",
    "                     randomized_x_coords] = image[flattened_y_coords,\n",
    "                                                  flattened_x_coords]\n",
    "    return randomized_image\n",
    "\n",
    "def get_flow_to_project_A_to_B(A, B, l=3, w=15, prev_flow=None, sigma=1.5):\n",
    "    # projection(next, flow) ~ prev\n",
    "    flow = cv2.calcOpticalFlowFarneback(prev=A, next=B, flow=prev_flow,\n",
    "                                        pyr_scale=0.5, levels=l, winsize=w,\n",
    "                                        iterations=3, poly_n=5, poly_sigma=sigma,\n",
    "                                        flags=0 #cv2.OPTFLOW_FARNEBACK_GAUSSIAN\n",
    "                                       )\n",
    "    #flow[...] = 0.0\n",
    "    print(np.average(np.abs(flow)), l, w, sigma, end=' ')\n",
    "    '''\n",
    "    magnitude, angle = cv2.cartToPolar(flow[..., 0], flow[..., 1])\n",
    "\n",
    "    # Normalize the magnitude to the range [0, 255]\n",
    "    magnitude = cv2.normalize(magnitude, None, 0, 255, cv2.NORM_MINMAX)\n",
    "\n",
    "    # Convert angle to degrees for visualization\n",
    "    angle = np.rad2deg(angle)\n",
    "\n",
    "    # Create HSV image\n",
    "    hsv = np.zeros((A.shape[0], A.shape[1], 3), dtype=np.uint8)\n",
    "    hsv[..., 0] = angle / 2\n",
    "    hsv[..., 1] = 255\n",
    "    hsv[..., 2] = cv2.normalize(magnitude, None, 0, 255, cv2.NORM_MINMAX)\n",
    "\n",
    "    # Convert HSV to BGR for visualization\n",
    "    rgb = cv2.cvtColor(hsv, cv2.COLOR_HSV2BGR)\n",
    "\n",
    "    # Display the flow field\n",
    "    plt.imshow(rgb)\n",
    "    plt.show()\n",
    "    '''\n",
    "    return flow\n",
    "\n",
    "def project(image, flow):\n",
    "    height, width = flow.shape[:2]\n",
    "    map_x = np.tile(np.arange(width), (height, 1))\n",
    "    map_y = np.swapaxes(np.tile(np.arange(height), (width, 1)), 0, 1)\n",
    "    map_xy = (flow + np.dstack((map_x, map_y))).astype('float32')\n",
    "    warped_image = cv2.remap(image, map_xy, None,\n",
    "                             #interpolation=cv2.INTER_LANCZOS4, #INTER_LINEAR,\n",
    "                             interpolation=cv2.INTER_LINEAR,\n",
    "                             borderMode=cv2.BORDER_REPLICATE)\n",
    "    return warped_image\n",
    "\n",
    "def RGB_warp_B_to_A(A, B, l=3, w=15, prev_flow=None, sigma=1.5):\n",
    "    A_luma = YUV.from_RGB(A.astype(np.int16))[..., 0]\n",
    "    B_luma = YUV.from_RGB(B.astype(np.int16))[..., 0]\n",
    "    flow = get_flow_to_project_A_to_B(A_luma, B_luma, l, w, prev_flow, sigma)\n",
    "    return project(B, flow)\n",
    "\n",
    "def warp_B_to_A(A, B, l=3, w=15, prev_flow=None, sigma=1.5):\n",
    "    flow = get_flow_to_project_A_to_B(A, B, l, w, prev_flow, sigma)\n",
    "    return project(B, flow)\n",
    "\n",
    "def denoise(warp_B_to_A, noisy_image, iters=50, max_distance_y=9, max_distance_x=9, l=3, w=2, sigma=0.3):\n",
    "    print(iters, max_distance_y, max_distance_x, l, w, sigma)\n",
    "    acc_image = np.zeros_like(noisy_image, dtype=np.float32)\n",
    "    acc_image[...] = noisy_image\n",
    "    for i in range(iters):\n",
    "        print(i, end=' ')\n",
    "        denoised_image = acc_image/(i+1)\n",
    "        randomized_noisy_image = randomize(noisy_image, max_distance_y, max_distance_x).astype(np.float32)\n",
    "        #randomized_noisy_image = randomize(denoised_image, max_distance_y, max_distance_x).astype(np.float32)\n",
    "        #randomized_noisy_image = noisy_image\n",
    "        #randomized_and_compensated_noisy_image = warp_B_to_A(B=randomized_noisy_image, A=noisy_image, l=l, w=w, sigma=sigma)\n",
    "        #randomized_and_compensated_noisy_image = warp_B_to_A(B=randomized_noisy_image, A=denoised_image, l=l, w=w, sigma=sigma)\n",
    "        randomized_and_compensated_noisy_image = warp_B_to_A(A=randomized_noisy_image, B=denoised_image, l=l, w=w, sigma=sigma)\n",
    "        #randomized_and_compensated_noisy_image = randomized_noisy_image\n",
    "        plt.imshow(randomized_and_compensated_noisy_image.astype(np.uint8))\n",
    "        plt.show()\n",
    "        acc_image += randomized_and_compensated_noisy_image\n",
    "    denoised_image = acc_image/(iters + 1)\n",
    "    print()\n",
    "    return denoised_image"
   ]
  },
  {
   "cell_type": "code",
   "execution_count": null,
   "metadata": {},
   "outputs": [],
   "source": [
    "denoised_img = denoise(RGB_warp_B_to_A, noisy_image,\n",
    "                       iters=10, max_distance_y=5, max_distance_x=5, l=2, w=9, sigma=1.25)"
   ]
  },
  {
   "cell_type": "code",
   "execution_count": null,
   "metadata": {},
   "outputs": [],
   "source": [
    "denoised_img = denoise(RGB_warp_B_to_A, noisy_image,\n",
    "                       iters=100, max_distance_y=15, max_distance_x=15, l=3, w=9, sigma=1.25)"
   ]
  },
  {
   "cell_type": "code",
   "execution_count": null,
   "metadata": {},
   "outputs": [],
   "source": [
    "RGB_image.show(denoised_img.astype(np.uint8))"
   ]
  },
  {
   "cell_type": "code",
   "execution_count": null,
   "metadata": {},
   "outputs": [],
   "source": [
    "denoised_img = denoise(RGB_warp_B_to_A, noisy_image,\n",
    "                       iters=100, max_distance_y=10, max_distance_x=10, l=3, w=9, sigma=1.25)"
   ]
  },
  {
   "cell_type": "code",
   "execution_count": null,
   "metadata": {},
   "outputs": [],
   "source": [
    "RGB_image.show(denoised_img.astype(np.uint8))"
   ]
  },
  {
   "cell_type": "code",
   "execution_count": null,
   "metadata": {},
   "outputs": [],
   "source": []
  }
 ],
 "metadata": {
  "kernelspec": {
   "display_name": "Python 3 (ipykernel)",
   "language": "python",
   "name": "python3"
  },
  "language_info": {
   "codemirror_mode": {
    "name": "ipython",
    "version": 3
   },
   "file_extension": ".py",
   "mimetype": "text/x-python",
   "name": "python",
   "nbconvert_exporter": "python",
   "pygments_lexer": "ipython3",
   "version": "3.10.12"
  }
 },
 "nbformat": 4,
 "nbformat_minor": 4
}
